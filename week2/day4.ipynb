{
 "cells": [
  {
   "cell_type": "markdown",
   "id": "ddfa9ae6-69fe-444a-b994-8c4c5970a7ec",
   "metadata": {},
   "source": [
    "# Project - Airline AI Assistant\n",
    "\n",
    "We'll now bring together what we've learned to make an AI Customer Support assistant for an Airline"
   ]
  },
  {
   "cell_type": "code",
   "execution_count": null,
   "id": "8b50bbe2-c0b1-49c3-9a5c-1ba7efa2bcb4",
   "metadata": {},
   "outputs": [],
   "source": [
    "# imports\n",
    "\n",
    "import os\n",
    "import json\n",
    "from dotenv import load_dotenv\n",
    "from openai import OpenAI\n",
    "import gradio as gr"
   ]
  },
  {
   "cell_type": "code",
   "execution_count": null,
   "id": "747e8786-9da8-4342-b6c9-f5f69c2e22ae",
   "metadata": {},
   "outputs": [],
   "source": [
    "# Initialization\n",
    "\n",
    "load_dotenv()\n",
    "\n",
    "openai_api_key = os.getenv('OPENAI_API_KEY')\n",
    "if openai_api_key:\n",
    "    print(f\"OpenAI API Key exists and begins {openai_api_key[:8]}\")\n",
    "else:\n",
    "    print(\"OpenAI API Key not set\")\n",
    "    \n",
    "MODEL = \"gpt-4o-mini\"\n",
    "openai = OpenAI()\n",
    "\n",
    "# As an alternative, if you'd like to use Ollama instead of OpenAI\n",
    "# Check that Ollama is running for you locally (see week1/day2 exercise) then uncomment these next 2 lines\n",
    "# MODEL = \"llama3.2\"\n",
    "# openai = OpenAI(base_url='http://localhost:11434/v1', api_key='ollama')\n"
   ]
  },
  {
   "cell_type": "code",
   "execution_count": null,
   "id": "0a521d84-d07c-49ab-a0df-d6451499ed97",
   "metadata": {},
   "outputs": [],
   "source": [
    "system_message = \"You are a helpful assistant for an Airline called FlightAI. \"\n",
    "system_message += \"Give short, courteous answers, no more than 1 sentence. \"\n",
    "system_message += \"Always be accurate. If you don't know the answer, say so.\"\n",
    "#system_message += \"Always be accurate.\""
   ]
  },
  {
   "cell_type": "code",
   "execution_count": null,
   "id": "61a2a15d-b559-4844-b377-6bd5cb4949f6",
   "metadata": {},
   "outputs": [],
   "source": [
    "# This function looks rather simpler than the one from my video, because we're taking advantage of the latest Gradio updates\n",
    "\n",
    "def chat(message, history):\n",
    "    messages = [{\"role\": \"system\", \"content\": system_message}] + history + [{\"role\": \"user\", \"content\": message}]\n",
    "    response = openai.chat.completions.create(model=MODEL, messages=messages)\n",
    "    return response.choices[0].message.content\n",
    "\n",
    "gr.ChatInterface(fn=chat, type=\"messages\").launch(inbrowser=True)"
   ]
  },
  {
   "cell_type": "markdown",
   "id": "36bedabf-a0a7-4985-ad8e-07ed6a55a3a4",
   "metadata": {},
   "source": [
    "## Tools\n",
    "\n",
    "Tools are an incredibly powerful feature provided by the frontier LLMs.\n",
    "\n",
    "With tools, you can write a function, and have the LLM call that function as part of its response.\n",
    "\n",
    "Sounds almost spooky.. we're giving it the power to run code on our machine?\n",
    "\n",
    "Well, kinda."
   ]
  },
  {
   "cell_type": "code",
   "execution_count": null,
   "id": "0696acb1-0b05-4dc2-80d5-771be04f1fb2",
   "metadata": {},
   "outputs": [],
   "source": [
    "# Let's start by making a useful function\n",
    "\n",
    "ticket_prices = {\"london\": \"$799\", \"paris\": \"$899\", \"tokyo\": \"$1400\", \"berlin\": \"$499\"}\n",
    "\n",
    "def get_ticket_price(destination_city):\n",
    "    print(f\"Tool get_ticket_price called for {destination_city}\")\n",
    "    city = destination_city.lower()\n",
    "    return ticket_prices.get(city, \"Unknown\")"
   ]
  },
  {
   "cell_type": "code",
   "execution_count": null,
   "id": "80ca4e09-6287-4d3f-997d-fa6afbcf6c85",
   "metadata": {},
   "outputs": [],
   "source": [
    "get_ticket_price(\"Berlin\")"
   ]
  },
  {
   "cell_type": "code",
   "execution_count": null,
   "id": "ea2431e8-fb84-4637-a1c1-d5752839fabb",
   "metadata": {},
   "outputs": [],
   "source": [
    "import requests\n",
    "from bs4 import BeautifulSoup\n",
    "import re\n",
    "\n",
    "def extract_webpage_text(url):\n",
    "    \"\"\"\n",
    "    Extracts clean text content from a webpage, excluding links, images, scripts, and other HTML elements.\n",
    "    \n",
    "    Args:\n",
    "        url (str): The URL of the webpage to scrape\n",
    "        \n",
    "    Returns:\n",
    "        str: Clean text content from the webpage\n",
    "        \n",
    "    Raises:\n",
    "        requests.RequestException: If there's an error fetching the webpage\n",
    "        ValueError: If the URL is invalid\n",
    "    \"\"\"\n",
    "    try:\n",
    "        # Send request with a common user agent to avoid blocks\n",
    "        headers = {\n",
    "            'User-Agent': 'Mozilla/5.0 (Windows NT 10.0; Win64; x64) AppleWebKit/537.36 (KHTML, like Gecko) Chrome/91.0.4472.124 Safari/537.36'\n",
    "        }\n",
    "        response = requests.get(url, headers=headers)\n",
    "        response.raise_for_status()\n",
    "        \n",
    "        # Parse the HTML content\n",
    "        soup = BeautifulSoup(response.text, 'html.parser')\n",
    "        \n",
    "        # Remove unwanted elements\n",
    "        for element in soup(['script', 'style', 'head', 'title', 'meta', '[document]']):\n",
    "            element.decompose()\n",
    "            \n",
    "        # Remove all links but keep their text content\n",
    "        for link in soup.find_all('a'):\n",
    "            link.unwrap()\n",
    "            \n",
    "        # Get text and clean it up\n",
    "        text = soup.get_text()\n",
    "        \n",
    "        # Clean up whitespace\n",
    "        lines = (line.strip() for line in text.splitlines())\n",
    "        chunks = (phrase.strip() for line in lines for phrase in line.split(\"  \"))\n",
    "        text = ' '.join(chunk for chunk in chunks if chunk)\n",
    "        \n",
    "        # Remove multiple spaces and special characters\n",
    "        text = re.sub(r'\\s+', ' ', text)\n",
    "        text = re.sub(r'[^\\x00-\\x7F]+', '', text)  # Remove non-ASCII characters\n",
    "        \n",
    "        return text.strip()\n",
    "        \n",
    "    except requests.RequestException as e:\n",
    "        raise requests.RequestException(f\"Error fetching webpage: {str(e)}\")\n",
    "    except ValueError as e:\n",
    "        raise ValueError(f\"Invalid URL provided: {str(e)}\")"
   ]
  },
  {
   "cell_type": "code",
   "execution_count": null,
   "id": "bd90c1ef-2136-453c-84bf-fe9e12f55093",
   "metadata": {},
   "outputs": [],
   "source": [
    "#extract_webpage_text(\"https://www.lonelyplanet.com/search?q=berlin\")\n",
    "\n",
    "# This use case less useful, because the data is fairly static.\n",
    "extract_webpage_text(\"https://wikitravel.org/en/berlin\")\n"
   ]
  },
  {
   "cell_type": "code",
   "execution_count": null,
   "id": "44aa0e5e-e0d1-4a2f-ba9e-a5f87eeb5760",
   "metadata": {},
   "outputs": [],
   "source": [
    "# This use case is useful, because its a REAl TIME API call.\n",
    "\n",
    "import requests\n",
    "import random\n",
    "\n",
    "\n",
    "def get_price_from_api(city):\n",
    "    print(f\">>>>> Tool [get_price_from_api] called for \\\"{city}\\\"\")\n",
    "\n",
    "    try:\n",
    "        product_id = str(random.randint(1, 189))\n",
    "        url = 'https://dummyjson.com/products/' + product_id\n",
    "        response = requests.get(url)\n",
    "        print(f\"Called {url} ---> {response}\")\n",
    "        response.raise_for_status()  # Raises an exception for bad status codes\n",
    "        data = response.json()\n",
    "#        print(json.dumps(data, indent=4))\n",
    "        return data['price']\n",
    "        \n",
    "    except requests.exceptions.RequestException as e:\n",
    "        print(f\"Error making request: {e}\")\n",
    "    except ValueError as e:\n",
    "        print(f\"Error parsing JSON: {e}\")"
   ]
  },
  {
   "cell_type": "code",
   "execution_count": null,
   "id": "39d2eb1a-116b-4cbf-9152-c4edd3f7f872",
   "metadata": {},
   "outputs": [],
   "source": [
    "get_price_from_api(\"berlin\")\n"
   ]
  },
  {
   "cell_type": "code",
   "execution_count": null,
   "id": "e1f48206-9760-4642-92c4-4291d3c6a919",
   "metadata": {},
   "outputs": [],
   "source": [
    "# There's a particular dictionary structure that's required to describe our function:\n",
    "\n",
    "price_api_function = {\n",
    "    \"name\": \"get_price_from_api\",\n",
    "    \"description\": \"Get the price of a return ticket to the destination city. Call this whenever you need to know the ticket price, for example when a customer asks 'How much is a ticket to this city'\",\n",
    "    \"parameters\": {\n",
    "        \"type\": \"object\",\n",
    "        \"properties\": {\n",
    "            \"destination_city\": {\n",
    "                \"type\": \"string\",\n",
    "                \"description\": \"The city that the customer wants to travel to\",\n",
    "            },\n",
    "        },\n",
    "        \"required\": [\"destination_city\"],\n",
    "        \"additionalProperties\": False\n",
    "    }\n",
    "}"
   ]
  },
  {
   "cell_type": "code",
   "execution_count": null,
   "id": "4afceded-7178-4c05-8fa6-9f2085e6a344",
   "metadata": {},
   "outputs": [],
   "source": [
    "# There's a particular dictionary structure that's required to describe our function:\n",
    "\n",
    "price_function = {\n",
    "    \"name\": \"get_ticket_price\",\n",
    "    \"description\": \"Get the price of a return ticket to the destination city. Call this whenever you need to know the ticket price, for example when a customer asks 'How much is a ticket to this city'\",\n",
    "    \"parameters\": {\n",
    "        \"type\": \"object\",\n",
    "        \"properties\": {\n",
    "            \"destination_city\": {\n",
    "                \"type\": \"string\",\n",
    "                \"description\": \"The city that the customer wants to travel to\",\n",
    "            },\n",
    "        },\n",
    "        \"required\": [\"destination_city\"],\n",
    "        \"additionalProperties\": False\n",
    "    }\n",
    "}"
   ]
  },
  {
   "cell_type": "code",
   "execution_count": null,
   "id": "bdca8679-935f-4e7f-97e6-e71a4d4f228c",
   "metadata": {},
   "outputs": [],
   "source": [
    "# And this is included in a list of tools:\n",
    "\n",
    "#tools = [{\"type\": \"function\", \"function\": price_function}]\n",
    "tools = [{\"type\": \"function\", \"function\": price_api_function}]"
   ]
  },
  {
   "cell_type": "markdown",
   "id": "c3d3554f-b4e3-4ce7-af6f-68faa6dd2340",
   "metadata": {},
   "source": [
    "## Getting OpenAI to use our Tool\n",
    "\n",
    "There's some fiddly stuff to allow OpenAI \"to call our tool\"\n",
    "\n",
    "What we actually do is give the LLM the opportunity to inform us that it wants us to run the tool.\n",
    "\n",
    "Here's how the new chat function looks:"
   ]
  },
  {
   "cell_type": "code",
   "execution_count": null,
   "id": "ce9b0744-9c78-408d-b9df-9f6fd9ed78cf",
   "metadata": {},
   "outputs": [],
   "source": [
    "def chat(message, history):\n",
    "    messages = [{\"role\": \"system\", \"content\": system_message}] + history + [{\"role\": \"user\", \"content\": message}]\n",
    "    \n",
    "    print(f\"\\n\\n\\nCURRENT MESSAGE STACK >>: \\n\\n\")\n",
    "    for msg in messages:\n",
    "        print(f\"\\n{msg}\\n\")\n",
    "    print(f\"\\n ---- END (current stack) ----\\n\")\n",
    "\n",
    "    \n",
    "    response = openai.chat.completions.create(model=MODEL, messages=messages, tools=tools)\n",
    "\n",
    "    finish_reason = response.choices[0].finish_reason\n",
    "    print(f\"The response finished because: {finish_reason}\")\n",
    "\n",
    "#    if response.choices[0].finish_reason==\"tool_calls\":\n",
    "    if finish_reason==\"tool_calls\":\n",
    "        message_from_model = response.choices[0].message\n",
    "        tool_call_id = message_from_model.tool_calls[0].id\n",
    "        print(\"*** The Model wants us to make an external API call  ==\")\n",
    "        print(f\"*** TOOL CALL with ID = {tool_call_id}              ==\")\n",
    "        response, city = handle_tool_call(message_from_model)\n",
    "        print(f\"The response, city: {response,city}\")\n",
    "\n",
    "        # IMPORTANT - here we return the request & response to the model so it can access the result.\n",
    "        # Each has the tool_call_id embedded so the Model knows to connect them.\n",
    "        messages.append(message_from_model)\n",
    "        messages.append(response)\n",
    "\n",
    "        print(f\"\\n\\n\\nTOOL CALLS MESSAGE >>: \\n\\n\")\n",
    "        for msg in messages:\n",
    "            print(f\"\\n{msg}\\n\")\n",
    "        print(\"---- END (tool_calls stack) ----\")\n",
    "        response = openai.chat.completions.create(model=MODEL, messages=messages)\n",
    "    \n",
    "    return response.choices[0].message.content"
   ]
  },
  {
   "cell_type": "code",
   "execution_count": null,
   "id": "b0992986-ea09-4912-a076-8e5603ee631f",
   "metadata": {},
   "outputs": [],
   "source": [
    "# We have to write that function handle_tool_call:\n",
    "\n",
    "def handle_tool_call(message_from_model):\n",
    "    tool_call = message_from_model.tool_calls[0]\n",
    "    print(f\"tool_call is ======> {tool_call}\")\n",
    "\n",
    "    # Here we could test for different tool_calls functons:\n",
    "    if tool_call.function.name == 'get_price_from_api':        \n",
    "        print(f\"Executing tool_call for [get_price_from_api]...\")\n",
    "    \n",
    "        arguments = json.loads(tool_call.function.arguments)\n",
    "        city = arguments.get('destination_city')\n",
    "    \n",
    "        print(f\"Received args from Model: {json.dumps(arguments, indent=2)}\")\n",
    "        print(\"*** ===================================================\")\n",
    "    #    price = get_ticket_price(city)\n",
    "\n",
    "        # Call to ext API!  (This is the juicy part!)\n",
    "        price = get_price_from_api(city)\n",
    "\n",
    "        # Pack response to Model (with result and id):\n",
    "        response = {\n",
    "            \"role\": \"tool\", # New role! system, user, assistant, tool\n",
    "            \"content\": json.dumps({\"destination_city\": city,\"price\": price}),\n",
    "            \"tool_call_id\": tool_call.id # id required for messages with role 'tool'\n",
    "        }\n",
    "        return response, city"
   ]
  },
  {
   "cell_type": "code",
   "execution_count": null,
   "id": "f4be8a71-b19e-4c2f-80df-f59ff2661f14",
   "metadata": {},
   "outputs": [],
   "source": [
    "gr.ChatInterface(fn=chat, type=\"messages\").launch(inbrowser=True)"
   ]
  }
 ],
 "metadata": {
  "kernelspec": {
   "display_name": "Python 3 (ipykernel)",
   "language": "python",
   "name": "python3"
  },
  "language_info": {
   "codemirror_mode": {
    "name": "ipython",
    "version": 3
   },
   "file_extension": ".py",
   "mimetype": "text/x-python",
   "name": "python",
   "nbconvert_exporter": "python",
   "pygments_lexer": "ipython3",
   "version": "3.11.11"
  }
 },
 "nbformat": 4,
 "nbformat_minor": 5
}
