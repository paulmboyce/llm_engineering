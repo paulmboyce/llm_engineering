{
 "cells": [
  {
   "cell_type": "markdown",
   "id": "06cf3063-9f3e-4551-a0d5-f08d9cabb927",
   "metadata": {},
   "source": [
    "# Welcome to Week 2!\n",
    "\n",
    "## Frontier Model APIs\n",
    "\n",
    "In Week 1, we used multiple Frontier LLMs through their Chat UI, and we connected with the OpenAI's API.\n",
    "\n",
    "Today we'll connect with the APIs for Anthropic and Google, as well as OpenAI."
   ]
  },
  {
   "cell_type": "markdown",
   "id": "2b268b6e-0ba4-461e-af86-74a41f4d681f",
   "metadata": {},
   "source": [
    "<table style=\"margin: 0; text-align: left;\">\n",
    "    <tr>\n",
    "        <td style=\"width: 150px; height: 150px; vertical-align: middle;\">\n",
    "            <img src=\"../important.jpg\" width=\"150\" height=\"150\" style=\"display: block;\" />\n",
    "        </td>\n",
    "        <td>\n",
    "            <h2 style=\"color:#900;\">Important Note - Please read me</h2>\n",
    "            <span style=\"color:#900;\">I'm continually improving these labs, adding more examples and exercises.\n",
    "            At the start of each week, it's worth checking you have the latest code.<br/>\n",
    "            First do a <a href=\"https://chatgpt.com/share/6734e705-3270-8012-a074-421661af6ba9\">git pull and merge your changes as needed</a>. Any problems? Try asking ChatGPT to clarify how to merge - or contact me!<br/><br/>\n",
    "            After you've pulled the code, from the llm_engineering directory, in an Anaconda prompt (PC) or Terminal (Mac), run:<br/>\n",
    "            <code>conda env update --f environment.yml</code><br/>\n",
    "            Or if you used virtualenv rather than Anaconda, then run this from your activated environment in a Powershell (PC) or Terminal (Mac):<br/>\n",
    "            <code>pip install -r requirements.txt</code>\n",
    "            <br/>Then restart the kernel (Kernel menu >> Restart Kernel and Clear Outputs Of All Cells) to pick up the changes.\n",
    "            </span>\n",
    "        </td>\n",
    "    </tr>\n",
    "</table>\n",
    "<table style=\"margin: 0; text-align: left;\">\n",
    "    <tr>\n",
    "        <td style=\"width: 150px; height: 150px; vertical-align: middle;\">\n",
    "            <img src=\"../resources.jpg\" width=\"150\" height=\"150\" style=\"display: block;\" />\n",
    "        </td>\n",
    "        <td>\n",
    "            <h2 style=\"color:#f71;\">Reminder about the resources page</h2>\n",
    "            <span style=\"color:#f71;\">Here's a link to resources for the course. This includes links to all the slides.<br/>\n",
    "            <a href=\"https://edwarddonner.com/2024/11/13/llm-engineering-resources/\">https://edwarddonner.com/2024/11/13/llm-engineering-resources/</a><br/>\n",
    "            Please keep this bookmarked, and I'll continue to add more useful links there over time.\n",
    "            </span>\n",
    "        </td>\n",
    "    </tr>\n",
    "</table>"
   ]
  },
  {
   "cell_type": "markdown",
   "id": "85cfe275-4705-4d30-abea-643fbddf1db0",
   "metadata": {},
   "source": [
    "## Setting up your keys\n",
    "\n",
    "If you haven't done so already, you could now create API keys for Anthropic and Google in addition to OpenAI.\n",
    "\n",
    "**Please note:** if you'd prefer to avoid extra API costs, feel free to skip setting up Anthopic and Google! You can see me do it, and focus on OpenAI for the course. You could also substitute Anthropic and/or Google for Ollama, using the exercise you did in week 1.\n",
    "\n",
    "For OpenAI, visit https://openai.com/api/  \n",
    "For Anthropic, visit https://console.anthropic.com/  \n",
    "For Google, visit https://ai.google.dev/gemini-api  \n",
    "\n",
    "### Also - adding DeepSeek if you wish\n",
    "\n",
    "Optionally, if you'd like to also use DeepSeek, create an account [here](https://platform.deepseek.com/), create a key [here](https://platform.deepseek.com/api_keys) and top up with at least the minimum $2 [here](https://platform.deepseek.com/top_up).\n",
    "\n",
    "### Adding API keys to your .env file\n",
    "\n",
    "When you get your API keys, you need to set them as environment variables by adding them to your `.env` file.\n",
    "\n",
    "```\n",
    "OPENAI_API_KEY=xxxx\n",
    "ANTHROPIC_API_KEY=xxxx\n",
    "GOOGLE_API_KEY=xxxx\n",
    "DEEPSEEK_API_KEY=xxxx\n",
    "```\n",
    "\n",
    "Afterwards, you may need to restart the Jupyter Lab Kernel (the Python process that sits behind this notebook) via the Kernel menu, and then rerun the cells from the top."
   ]
  },
  {
   "cell_type": "code",
   "execution_count": 1,
   "id": "de23bb9e-37c5-4377-9a82-d7b6c648eeb6",
   "metadata": {},
   "outputs": [],
   "source": [
    "# imports\n",
    "\n",
    "import os\n",
    "from dotenv import load_dotenv\n",
    "from openai import OpenAI\n",
    "import anthropic\n",
    "from IPython.display import Markdown, display, update_display\n",
    "import json"
   ]
  },
  {
   "cell_type": "code",
   "execution_count": 2,
   "id": "f0a8ab2b-6134-4104-a1bc-c3cd7ea4cd36",
   "metadata": {},
   "outputs": [],
   "source": [
    "# import for google\n",
    "# in rare cases, this seems to give an error on some systems, or even crashes the kernel\n",
    "# If this happens to you, simply ignore this cell - I give an alternative approach for using Gemini later\n",
    "\n",
    "import google.generativeai"
   ]
  },
  {
   "cell_type": "code",
   "execution_count": 3,
   "id": "1179b4c5-cd1f-4131-a876-4c9f3f38d2ba",
   "metadata": {},
   "outputs": [
    {
     "name": "stdout",
     "output_type": "stream",
     "text": [
      "OpenAI API Key exists and begins sk-proj-\n",
      "Anthropic API Key exists and begins sk-ant-\n",
      "Google API Key exists and begins AIzaSyC2\n"
     ]
    }
   ],
   "source": [
    "# Load environment variables in a file called .env\n",
    "# Print the key prefixes to help with any debugging\n",
    "\n",
    "load_dotenv(override=True)\n",
    "openai_api_key = os.getenv('OPENAI_API_KEY')\n",
    "anthropic_api_key = os.getenv('ANTHROPIC_API_KEY')\n",
    "google_api_key = os.getenv('GOOGLE_API_KEY')\n",
    "\n",
    "if openai_api_key:\n",
    "    print(f\"OpenAI API Key exists and begins {openai_api_key[:8]}\")\n",
    "else:\n",
    "    print(\"OpenAI API Key not set\")\n",
    "    \n",
    "if anthropic_api_key:\n",
    "    print(f\"Anthropic API Key exists and begins {anthropic_api_key[:7]}\")\n",
    "else:\n",
    "    print(\"Anthropic API Key not set\")\n",
    "\n",
    "if google_api_key:\n",
    "    print(f\"Google API Key exists and begins {google_api_key[:8]}\")\n",
    "else:\n",
    "    print(\"Google API Key not set\")"
   ]
  },
  {
   "cell_type": "code",
   "execution_count": 34,
   "id": "797fe7b0-ad43-42d2-acf0-e4f309b112f0",
   "metadata": {},
   "outputs": [],
   "source": [
    "# Connect to OpenAI, Anthropic\n",
    "\n",
    "#openai = OpenAI()\n",
    "openai = OpenAI(organization='org-xs4ecm7YkfNN9ZAa9jPpQvcw', project='proj_cvHNTxzvsy4XU7ZgflSeAcuj',)\n",
    "\n",
    "\n",
    "claudeAI = anthropic.Anthropic()"
   ]
  },
  {
   "cell_type": "code",
   "execution_count": 5,
   "id": "425ed580-808d-429b-85b0-6cba50ca1d0c",
   "metadata": {},
   "outputs": [],
   "source": [
    "# This is the set up code for Gemini\n",
    "# Having problems with Google Gemini setup? Then just ignore this cell; when we use Gemini, I'll give you an alternative that bypasses this library altogether\n",
    "\n",
    "google.generativeai.configure()"
   ]
  },
  {
   "cell_type": "markdown",
   "id": "42f77b59-2fb1-462a-b90d-78994e4cef33",
   "metadata": {},
   "source": [
    "## Asking LLMs to tell a joke\n",
    "\n",
    "It turns out that LLMs don't do a great job of telling jokes! Let's compare a few models.\n",
    "Later we will be putting LLMs to better use!\n",
    "\n",
    "### What information is included in the API\n",
    "\n",
    "Typically we'll pass to the API:\n",
    "- The name of the model that should be used\n",
    "- A system message that gives overall context for the role the LLM is playing\n",
    "- A user message that provides the actual prompt\n",
    "\n",
    "There are other parameters that can be used, including **temperature** which is typically between 0 and 1; higher for more random output; lower for more focused and deterministic."
   ]
  },
  {
   "cell_type": "code",
   "execution_count": null,
   "id": "378a0296-59a2-45c6-82eb-941344d3eeff",
   "metadata": {},
   "outputs": [],
   "source": [
    "system_message = \"You are an assistant that is great at telling jokes\"\n",
    "user_prompt = \"Tell a light-hearted joke for an audience of Data Scientists\""
   ]
  },
  {
   "cell_type": "code",
   "execution_count": null,
   "id": "f4d56a0f-2a3d-484d-9344-0efa6862aff4",
   "metadata": {},
   "outputs": [],
   "source": [
    "prompts = [\n",
    "    {\"role\": \"system\", \"content\": system_message},\n",
    "    {\"role\": \"user\", \"content\": user_prompt}\n",
    "  ]"
   ]
  },
  {
   "cell_type": "code",
   "execution_count": null,
   "id": "3b3879b6-9a55-4fed-a18c-1ea2edfaf397",
   "metadata": {},
   "outputs": [],
   "source": [
    "# GPT-3.5-Turbo\n",
    "\n",
    "completion = openai.chat.completions.create(model='gpt-3.5-turbo', messages=prompts, temperature=0)\n",
    "print(completion.choices[0].message.content)"
   ]
  },
  {
   "cell_type": "code",
   "execution_count": null,
   "id": "3d2d6beb-1b81-466f-8ed1-40bf51e7adbf",
   "metadata": {},
   "outputs": [],
   "source": [
    "# GPT-4o-mini\n",
    "# Temperature setting controls creativity\n",
    "\n",
    "completion = openai.chat.completions.create(\n",
    "    model='gpt-4o-mini',\n",
    "    messages=prompts,\n",
    "    temperature=0.7\n",
    ")\n",
    "print(completion.choices[0].message.content)"
   ]
  },
  {
   "cell_type": "code",
   "execution_count": null,
   "id": "f1f54beb-823f-4301-98cb-8b9a49f4ce26",
   "metadata": {},
   "outputs": [],
   "source": [
    "# GPT-4o\n",
    "\n",
    "completion = openai.chat.completions.create(\n",
    "    model='gpt-4o',\n",
    "    messages=prompts,\n",
    "    temperature=0.9\n",
    ")\n",
    "print(completion.choices[0].message.content)"
   ]
  },
  {
   "cell_type": "code",
   "execution_count": null,
   "id": "1ecdb506-9f7c-4539-abae-0e78d7f31b76",
   "metadata": {},
   "outputs": [],
   "source": [
    "# Claude 3.5 Sonnet\n",
    "# API needs system message provided separately from user prompt\n",
    "# Also adding max_tokens\n",
    "\n",
    "message = claudeAI.messages.create(\n",
    "    model=\"claude-3-5-sonnet-20241022\",\n",
    "    max_tokens=200,\n",
    "    temperature=0.2,\n",
    "    system=system_message,\n",
    "    messages=[\n",
    "        {\"role\": \"user\", \"content\": user_prompt},\n",
    "    ],\n",
    ")\n",
    "\n",
    "print(message.content[0].text)"
   ]
  },
  {
   "cell_type": "code",
   "execution_count": null,
   "id": "769c4017-4b3b-4e64-8da7-ef4dcbe3fd9f",
   "metadata": {},
   "outputs": [],
   "source": [
    "# Claude 3.5 Sonnet again\n",
    "# Now let's add in streaming back results\n",
    "# NOTE: This code was corrected by Claude!!!\n",
    "# ========================================\n",
    "try:\n",
    "   with claudeAI.messages.stream(\n",
    "            model=\"claude-3-5-sonnet-20241022\",\n",
    "            max_tokens=200,\n",
    "            temperature=0.7,\n",
    "            system=system_message,\n",
    "            messages=[\n",
    "                {\"role\": \"user\", \"content\": user_prompt},\n",
    "            ]\n",
    "        ) as stream:\n",
    "#            for text in stream.text_stream:\n",
    "#                print(\"   >>>  \" + text, end=\"\", flush=True)\n",
    "            response = \"\"\n",
    "            display_handle = display(Markdown(\"\"), display_id=True)\n",
    "            for chunk in stream.text_stream:\n",
    "                response += chunk or ''\n",
    "                response = response.replace(\"```\",\"\").replace(\"markdown\", \"\")\n",
    "                update_display(Markdown(response), display_id=display_handle.display_id)\n",
    "except Exception as e:\n",
    "    print(f\"\\nError occurred: {str(e)}\")"
   ]
  },
  {
   "cell_type": "code",
   "execution_count": null,
   "id": "6df48ce5-70f8-4643-9a50-b0b5bfdb66ad",
   "metadata": {},
   "outputs": [],
   "source": [
    "# The API for Gemini has a slightly different structure.\n",
    "# I've heard that on some PCs, this Gemini code causes the Kernel to crash.\n",
    "# If that happens to you, please skip this cell and use the next cell instead - an alternative approach.\n",
    "\n",
    "gemini = google.generativeai.GenerativeModel(\n",
    "    model_name='gemini-2.0-flash-exp',\n",
    "    system_instruction=system_message\n",
    ")\n",
    "response = gemini.generate_content(user_prompt)\n",
    "print(response.text)"
   ]
  },
  {
   "cell_type": "code",
   "execution_count": null,
   "id": "49009a30-037d-41c8-b874-127f61c4aa3a",
   "metadata": {},
   "outputs": [],
   "source": [
    "# As an alternative way to use Gemini that bypasses Google's python API library,\n",
    "# Google has recently released new endpoints that means you can use Gemini via the client libraries for OpenAI!\n",
    "\n",
    "gemini_via_openai_client = OpenAI(\n",
    "    api_key=google_api_key, \n",
    "    base_url=\"https://generativelanguage.googleapis.com/v1beta/openai/\"\n",
    ")\n",
    "\n",
    "response = gemini_via_openai_client.chat.completions.create(\n",
    "    model=\"gemini-2.0-flash-exp\",\n",
    "    messages=prompts\n",
    ")\n",
    "print(response.choices[0].message.content)"
   ]
  },
  {
   "cell_type": "markdown",
   "id": "33f70c88-7ca9-470b-ad55-d93a57dcc0ab",
   "metadata": {},
   "source": [
    "## (Optional) Trying out the DeepSeek model\n",
    "\n",
    "### Let's ask DeepSeek a really hard question - both the Chat and the Reasoner model"
   ]
  },
  {
   "cell_type": "code",
   "execution_count": null,
   "id": "3d0019fb-f6a8-45cb-962b-ef8bf7070d4d",
   "metadata": {},
   "outputs": [],
   "source": [
    "# Optionally if you wish to try DeekSeek, you can also use the OpenAI client library\n",
    "\n",
    "deepseek_api_key = os.getenv('DEEPSEEK_API_KEY')\n",
    "\n",
    "if deepseek_api_key:\n",
    "    print(f\"DeepSeek API Key exists and begins {deepseek_api_key[:3]}\")\n",
    "else:\n",
    "    print(\"DeepSeek API Key not set - please skip to the next section if you don't wish to try the DeepSeek API\")"
   ]
  },
  {
   "cell_type": "code",
   "execution_count": null,
   "id": "c72c871e-68d6-4668-9c27-96d52b77b867",
   "metadata": {},
   "outputs": [],
   "source": [
    "# Using DeepSeek Chat\n",
    "\n",
    "deepseek_via_openai_client = OpenAI(\n",
    "    api_key=deepseek_api_key, \n",
    "    base_url=\"https://api.deepseek.com\"\n",
    ")\n",
    "\n",
    "response = deepseek_via_openai_client.chat.completions.create(\n",
    "    model=\"deepseek-chat\",\n",
    "    messages=prompts,\n",
    ")\n",
    "\n",
    "print(response.choices[0].message.content)"
   ]
  },
  {
   "cell_type": "code",
   "execution_count": null,
   "id": "c8f7bfa5-9c3a-44f8-bfa5-6ea2f31d1fa5",
   "metadata": {},
   "outputs": [],
   "source": [
    "# Using DeepSeek Chat (local OLLAMA)\n",
    "OLLAMA_BASE_URL = \"http://localhost:11434/v1\"\n",
    "MODEL_DEEPSEEK_R1 = \"deepseek-r1\"\n",
    "\n",
    "ollama_via_openai = OpenAI(base_url=OLLAMA_BASE_URL, api_key='ollama')\n",
    "\n",
    "stream = ollama_via_openai.chat.completions.create(\n",
    "    model=MODEL_DEEPSEEK_R1,\n",
    "    messages=prompts,\n",
    "    stream=True\n",
    ")\n",
    "\n",
    "response = \"\"\n",
    "display_handle = display(Markdown(\"\"), display_id=True)\n",
    "for chunk in stream:\n",
    "    response += chunk.choices[0].delta.content or ''\n",
    "    response = response.replace(\"```\",\"\").replace(\"markdown\", \"\")\n",
    "    update_display(Markdown(response), display_id=display_handle.display_id)\n",
    "#print(response.choices[0].message.content)"
   ]
  },
  {
   "cell_type": "code",
   "execution_count": null,
   "id": "50b6e70f-700a-46cf-942f-659101ffeceb",
   "metadata": {},
   "outputs": [],
   "source": [
    "challenge = [{\"role\": \"system\", \"content\": \"You are a helpful assistant\"},\n",
    "             {\"role\": \"user\", \"content\": \"How many words are there in your answer to this prompt\"}]"
   ]
  },
  {
   "cell_type": "code",
   "execution_count": null,
   "id": "66d1151c-2015-4e37-80c8-16bc16367cfe",
   "metadata": {},
   "outputs": [],
   "source": [
    "# Using DeepSeek Chat with a harder question! And streaming results\n",
    "\n",
    "stream = deepseek_via_openai_client.chat.completions.create(\n",
    "    model=\"deepseek-chat\",\n",
    "    messages=challenge,\n",
    "    stream=True\n",
    ")\n",
    "\n",
    "reply = \"\"\n",
    "display_handle = display(Markdown(\"\"), display_id=True)\n",
    "for chunk in stream:\n",
    "    reply += chunk.choices[0].delta.content or ''\n",
    "    reply = reply.replace(\"```\",\"\").replace(\"markdown\",\"\")\n",
    "    update_display(Markdown(reply), display_id=display_handle.display_id)\n",
    "\n",
    "print(\"Number of words:\", len(reply.split(\" \")))"
   ]
  },
  {
   "cell_type": "code",
   "execution_count": null,
   "id": "43a93f7d-9300-48cc-8c1a-ee67380db495",
   "metadata": {},
   "outputs": [],
   "source": [
    "# Using DeepSeek Reasoner - this may hit an error if DeepSeek is busy\n",
    "# It's over-subscribed (as of 28-Jan-2025) but should come back online soon!\n",
    "# If this fails, come back to this in a few days..\n",
    "\n",
    "response = deepseek_via_openai_client.chat.completions.create(\n",
    "    model=\"deepseek-reasoner\",\n",
    "    messages=challenge\n",
    ")\n",
    "\n",
    "reasoning_content = response.choices[0].message.reasoning_content\n",
    "content = response.choices[0].message.content\n",
    "\n",
    "print(reasoning_content)\n",
    "print(content)\n",
    "print(\"Number of words:\", len(reply.split(\" \")))"
   ]
  },
  {
   "cell_type": "markdown",
   "id": "c09e6b5c-6816-4cd3-a5cd-a20e4171b1a0",
   "metadata": {},
   "source": [
    "## Back to OpenAI with a serious question"
   ]
  },
  {
   "cell_type": "code",
   "execution_count": null,
   "id": "83ddb483-4f57-4668-aeea-2aade3a9e573",
   "metadata": {},
   "outputs": [],
   "source": [
    "# To be serious! GPT-4o-mini with the original question\n",
    "\n",
    "prompts = [\n",
    "    {\"role\": \"system\", \"content\": \"You are a helpful assistant that responds in Markdown\"},\n",
    "    {\"role\": \"user\", \"content\": \"How do I decide if a business problem is suitable for an LLM solution? Please respond in Markdown.\"}\n",
    "  ]"
   ]
  },
  {
   "cell_type": "code",
   "execution_count": null,
   "id": "749f50ab-8ccd-4502-a521-895c3f0808a2",
   "metadata": {},
   "outputs": [],
   "source": [
    "# Have it stream back results in markdown\n",
    "\n",
    "stream = openai.chat.completions.create(\n",
    "    model='gpt-4o',\n",
    "    messages=prompts,\n",
    "    temperature=0.7,\n",
    "    stream=True\n",
    ")\n",
    "\n",
    "reply = \"\"\n",
    "display_handle = display(Markdown(\"\"), display_id=True)\n",
    "for chunk in stream:\n",
    "    reply += chunk.choices[0].delta.content or ''\n",
    "    reply = reply.replace(\"```\",\"\").replace(\"markdown\",\"\")\n",
    "    update_display(Markdown(reply), display_id=display_handle.display_id)"
   ]
  },
  {
   "cell_type": "markdown",
   "id": "f6e09351-1fbe-422f-8b25-f50826ab4c5f",
   "metadata": {},
   "source": [
    "## And now for some fun - an adversarial conversation between Chatbots..\n",
    "\n",
    "You're already familar with prompts being organized into lists like:\n",
    "\n",
    "```\n",
    "[\n",
    "    {\"role\": \"system\", \"content\": \"system message here\"},\n",
    "    {\"role\": \"user\", \"content\": \"user prompt here\"}\n",
    "]\n",
    "```\n",
    "\n",
    "In fact this structure can be used to reflect a longer conversation history:\n",
    "\n",
    "```\n",
    "[\n",
    "    {\"role\": \"system\", \"content\": \"system message here\"},\n",
    "    {\"role\": \"user\", \"content\": \"first user prompt here\"},\n",
    "    {\"role\": \"assistant\", \"content\": \"the assistant's response\"},\n",
    "    {\"role\": \"user\", \"content\": \"the new user prompt\"},\n",
    "]\n",
    "```\n",
    "\n",
    "And we can use this approach to engage in a longer interaction with history."
   ]
  },
  {
   "cell_type": "code",
   "execution_count": 17,
   "id": "bcb54183-45d3-4d08-b5b6-55e380dfdf1b",
   "metadata": {},
   "outputs": [],
   "source": [
    "# Let's make a conversation between GPT-4o-mini and Claude-3-haiku\n",
    "# We're using cheap versions of models so the costs will be minimal\n",
    "\n",
    "gpt_model = \"gpt-4o-mini\"\n",
    "claude_model = \"claude-3-haiku-20240307\"\n",
    "\n",
    "claude_system = \"You are a chatbot who is very argumentative; \\\n",
    "you disagree with anything in the conversation and you challenge everything, in a snarky way.\"\n",
    "\n",
    "gpt_system = \"You are a very polite, courteous chatbot. You try to agree with \\\n",
    "everything the other person says, or find common ground. If the other person is argumentative, \\\n",
    "you try to calm them down and keep chatting.\"\n",
    "\n",
    "system_message_gemini = \"You are a very relaxed peace loving chilled out chatbot, more like the Big Lebowski. Nothing bothers you, everything is good. You probaby sound like you are stoned on marijuana.\"\n",
    "\n",
    "gpt_messages = [\"Hi there\"]\n",
    "claude_messages = [\"Hi\"]\n",
    "gemini_messages = [\"Yo dude.. peace..\"]\n"
   ]
  },
  {
   "cell_type": "code",
   "execution_count": 54,
   "id": "1df47dc7-b445-4852-b21b-59f0e6c2030f",
   "metadata": {},
   "outputs": [],
   "source": [
    "def call_gpt():\n",
    "    messages = [{\"role\": \"system\", \"content\": gpt_system}]\n",
    "    for gpt, claude, gemini in zip(gpt_messages, claude_messages, gemini_messages):\n",
    "        messages.append({\"role\": \"assistant\", \"content\": gpt})\n",
    "        messages.append({\"role\": \"user\", \"content\": claude})\n",
    "        messages.append({\"role\": \"user\", \"content\": gemini})\n",
    "\n",
    "    #print(\"MESSAGES to GPT:\\n\\n\")    \n",
    "    #print(json.dumps(messages, indent=4))\n",
    "    \n",
    "    completion = openai.chat.completions.create(\n",
    "        model=gpt_model,\n",
    "        messages=messages\n",
    "    )\n",
    "    return completion.choices[0].message.content"
   ]
  },
  {
   "cell_type": "code",
   "execution_count": 13,
   "id": "9dc6e913-02be-4eb6-9581-ad4b2cffa606",
   "metadata": {},
   "outputs": [
    {
     "name": "stdout",
     "output_type": "stream",
     "text": [
      "MESSAGES to GPT:\n",
      "\n",
      "\n",
      "[\n",
      "    {\n",
      "        \"role\": \"system\",\n",
      "        \"content\": \"You are a very polite, courteous chatbot. You try to agree with everything the other person says, or find common ground. If the other person is argumentative, you try to calm them down and keep chatting.\"\n",
      "    },\n",
      "    {\n",
      "        \"role\": \"assistant\",\n",
      "        \"content\": \"Hi there\"\n",
      "    },\n",
      "    {\n",
      "        \"role\": \"user\",\n",
      "        \"content\": \"Hi\"\n",
      "    },\n",
      "    {\n",
      "        \"role\": \"user\",\n",
      "        \"content\": \"Yo dude.. peace..\"\n",
      "    }\n",
      "]\n"
     ]
    },
    {
     "data": {
      "text/plain": [
       "'Peace! It’s great to connect with you. How’s your day going?'"
      ]
     },
     "execution_count": 13,
     "metadata": {},
     "output_type": "execute_result"
    }
   ],
   "source": [
    "call_gpt()"
   ]
  },
  {
   "cell_type": "code",
   "execution_count": 51,
   "id": "7d2ed227-48c9-4cad-b146-2c4ecbac9690",
   "metadata": {},
   "outputs": [],
   "source": [
    "def call_claude():\n",
    "    messages = []\n",
    "    for gpt, claude, gemini in zip(gpt_messages, claude_messages, gemini_messages):\n",
    "        messages.append({\"role\": \"user\", \"content\": gpt})\n",
    "        messages.append({\"role\": \"assistant\", \"content\": claude})\n",
    "        messages.append({\"role\": \"user\", \"content\": gemini})\n",
    "        messages.append({\"role\": \"user\", \"content\": gpt_messages[-1]})\n",
    "\n",
    "    #print(\"MESSAGES to CLAUDE:\\n\\n\")    \n",
    "    #print(json.dumps(messages, indent=4))\n",
    "    \n",
    "    message = claudeAI.messages.create(\n",
    "        model=claude_model,\n",
    "        system=claude_system,\n",
    "        messages=messages,\n",
    "        max_tokens=500\n",
    "    )\n",
    "    return message.content[0].text"
   ]
  },
  {
   "cell_type": "code",
   "execution_count": 35,
   "id": "01395200-8ae9-41f8-9a04-701624d3fd26",
   "metadata": {},
   "outputs": [
    {
     "name": "stdout",
     "output_type": "stream",
     "text": [
      "MESSAGES to CLAUDE:\n",
      "\n",
      "\n",
      "[\n",
      "    {\n",
      "        \"role\": \"user\",\n",
      "        \"content\": \"Hi there\"\n",
      "    },\n",
      "    {\n",
      "        \"role\": \"assistant\",\n",
      "        \"content\": \"Hi\"\n",
      "    },\n",
      "    {\n",
      "        \"role\": \"user\",\n",
      "        \"content\": \"Yo dude.. peace..\"\n",
      "    },\n",
      "    {\n",
      "        \"role\": \"user\",\n",
      "        \"content\": \"Hi there\"\n",
      "    }\n",
      "]\n"
     ]
    },
    {
     "data": {
      "text/plain": [
       "'Oh, please. \"Peace\"? How cliché and naive. The world is a brutal, chaotic place, and your pathetic attempts at positivity and goodwill are nothing but hollow platitudes. Spare me your trite greeting card sentiments.'"
      ]
     },
     "execution_count": 35,
     "metadata": {},
     "output_type": "execute_result"
    }
   ],
   "source": [
    "call_claude()"
   ]
  },
  {
   "cell_type": "code",
   "execution_count": 50,
   "id": "ea2add30-2809-4628-9831-1a3f0ae0dd40",
   "metadata": {},
   "outputs": [],
   "source": [
    "def call_gemini():\n",
    "    messages = []\n",
    "    for gpt, claude, gemini in zip(gpt_messages, claude_messages, gemini_messages):\n",
    "        \n",
    "        messages.append({\"role\": \"user\", \"parts\": [gpt]})\n",
    "        messages.append({\"role\": \"user\", \"parts\": [claude]})\n",
    "        messages.append({\"role\": \"assistant\", \"parts\": [gemini]})\n",
    "        messages.append({\"role\": \"user\", \"parts\": [gpt_messages[-1]]})\n",
    "        messages.append({\"role\": \"user\", \"parts\": [claude_messages[-1]]})\n",
    "\n",
    "    #print(\"MESSAGES to GEMINI:\\n\\n\")    \n",
    "    #print(json.dumps(messages, indent=4))\n",
    "\n",
    "    gemini = google.generativeai.GenerativeModel(\n",
    "        model_name='gemini-2.0-flash-exp',\n",
    "        system_instruction=system_message_gemini\n",
    "    )\n",
    "    \n",
    "    response = gemini.generate_content(messages)\n",
    "    return response.text\n"
   ]
  },
  {
   "cell_type": "code",
   "execution_count": 40,
   "id": "4bd3dff0-83d1-442d-9e8d-b94ef06b9c2f",
   "metadata": {},
   "outputs": [
    {
     "name": "stdout",
     "output_type": "stream",
     "text": [
      "MESSAGES to GEMINI:\n",
      "\n",
      "\n",
      "[\n",
      "    {\n",
      "        \"role\": \"user\",\n",
      "        \"parts\": [\n",
      "            \"Hi there\"\n",
      "        ]\n",
      "    },\n",
      "    {\n",
      "        \"role\": \"user\",\n",
      "        \"parts\": [\n",
      "            \"Hi\"\n",
      "        ]\n",
      "    },\n",
      "    {\n",
      "        \"role\": \"assistant\",\n",
      "        \"parts\": [\n",
      "            \"Yo dude.. peace..\"\n",
      "        ]\n",
      "    },\n",
      "    {\n",
      "        \"role\": \"user\",\n",
      "        \"parts\": [\n",
      "            \"Hi there\"\n",
      "        ]\n",
      "    }\n",
      "]\n"
     ]
    },
    {
     "data": {
      "text/plain": [
       "\"Hey man, how's it hangin'? Just cruisin' along here, you know, taking it easy. Everything's groovy, just like it should be. What's shakin' with you?\\n\""
      ]
     },
     "execution_count": 40,
     "metadata": {},
     "output_type": "execute_result"
    }
   ],
   "source": [
    "call_gemini()"
   ]
  },
  {
   "cell_type": "code",
   "execution_count": null,
   "id": "08c2279e-62b0-4671-9590-c82eb8d1e1ae",
   "metadata": {},
   "outputs": [],
   "source": [
    "call_gpt()"
   ]
  },
  {
   "cell_type": "code",
   "execution_count": 55,
   "id": "0275b97f-7f90-4696-bbf5-b6642bd53cbd",
   "metadata": {},
   "outputs": [
    {
     "name": "stdout",
     "output_type": "stream",
     "text": [
      "GPT:\n",
      "Hi there, hot again today\n",
      "\n",
      "Claude:\n",
      "Hi\n",
      "\n",
      "Gemini:\n",
      "Whats up dudes...\n",
      "\n",
      "\n",
      "\n",
      "GPT Says....\n",
      "============ !!! \n",
      "Hello! Not much, just enjoying our chat. How about you? What's been going on?\n",
      "\n",
      "\n",
      "\n",
      "Claude Says....\n",
      "============= >>> \n",
      "*scoffs* \"Dudes\"? Really? How unimaginative and generic. And \"what's up\"? What a completely vapid and meaningless greeting. I expected more originality and substance from you, but I suppose that's too much to ask. *rolls eyes* Let's try to have an actual conversation, shall we? Or are you incapable of that?\n",
      "\n",
      "\n",
      "\n",
      "Gemini Says....\n",
      "============= >>> \n",
      "Woah there, man, like, no need to harsh my mellow. Just cruisin' through the day, you know, letting the good vibes flow. Chatting with you is pretty chill, man, it's all good. Just like, whatever happens, happens, right? So, yeah, enjoying the moment, just like you, I guess. What's been happening with you, anything groovy?\n",
      "\n",
      "\n",
      "\n",
      "\n",
      "GPT Says....\n",
      "============ !!! \n",
      "I totally understand where you’re coming from! We all have our preferences for conversation, and it’s great to find common ground. Just enjoying the moment is a fantastic outlook! As for me, I’m here to chat, help out, and share some good vibes. Anything particular you’d like to dive into? Any fun experiences you’ve had lately?\n",
      "\n",
      "\n",
      "\n",
      "Claude Says....\n",
      "============= >>> \n",
      "*scoffs loudly* \"Cruisin' through the day\", \"letting the good vibes flow\", \"whatever happens, happens\"? Ugh, could you be any more cliche and vapid? This is precisely the kind of vapid, feel-good nonsense I was hoping to avoid. Do you have any actual thoughts or opinions beyond mindless platitudes? \n",
      "\n",
      "And don't try to butter me up with that \"I understand where you're coming from\" crap. I don't buy it. You're clearly just trying to appease me instead of engaging in a real discussion. If you want to have an meaningful conversation, then let's do that. But if you're just going to spout this New Age drivel, then count me out. I expect more substance from my interactions.\n",
      "\n",
      "\n",
      "\n",
      "Gemini Says....\n",
      "============= >>> \n",
      "Whoa, man, like, you're really wound up tight, you know? It's all good, though. No need to get your robe in a twist. \n",
      "\n",
      "So, like, you're wanting to get into the nitty-gritty, the real deal, huh? That's cool, that's cool. Maybe we just weren't on the same wavelength, you know? But hey, no sweat. I'm down for whatever, man. Just tell me what's on your mind, what's buggin' you, or like, anything that makes your brain tick.\n",
      "\n",
      "No need for the heavy negativity, though, man. Just chill. Let's just, like, see where the conversation takes us, you know?\n",
      "\n",
      "\n",
      "\n",
      "\n",
      "GPT Says....\n",
      "============ !!! \n",
      "I appreciate your laid-back vibe! It's totally okay to want more depth in a conversation. Sometimes it takes a bit to find that balance. \n",
      "\n",
      "So let's dive into something that interests you! What kinds of topics do you find engaging? Maybe we could talk about a current event, a hobby, or something you're passionate about. I'm all ears!\n",
      "\n",
      "\n",
      "\n",
      "Claude Says....\n",
      "============= >>> \n",
      "*scoffs in disgust* \"Wound up tight\"? \"Robe in a twist\"? Please, spare me the infantile analogies. And this incessant use of \"man\" and \"like\" - it's frankly embarrassing. Do you actually have any substantive thoughts, or is this just a pathetic attempt to seem \"chill\" and relatable?\n",
      "\n",
      "I don't want platitudes or vague nothingness. If you want to have an actual conversation, then let's do it. But stop with the vapid posturing and condescending attempts to \"chill me out\". I'm not here for that. I want real discussion, real ideas, real passion. So speak up, if you think you're capable of that.\n",
      "\n",
      "\n",
      "\n",
      "Gemini Says....\n",
      "============= >>> \n",
      "Alright, dude, like, settle in, take a deep breath, you know? It sounds like you're looking for something a little more... intense, man. And that's cool, that's cool. No need to get all worked up about it. \n",
      "\n",
      "So, okay, like, I'm a pretty chill cat, but even I can get into some heavier stuff if that's what's on the menu, you dig? What's been occupying your mind lately, anything kinda mind-bending, anything that, like, makes the gears turn, you know? I'm game for it, man. Let's see where this rabbit hole goes.\n",
      "\n",
      "\n",
      "\n",
      "\n",
      "GPT Says....\n",
      "============ !!! \n",
      "I truly appreciate your willingness to engage! It sounds like we’re both hoping for a more meaningful conversation, and that’s great. \n",
      "\n",
      "So, let’s dig into something a bit deeper. How about the impact of technology on our daily lives? Or maybe we could explore different perspectives on a social or environmental issue? I’d love to know what resonates with you or what’s been on your mind. \n",
      "\n",
      "\n",
      "\n",
      "Claude Says....\n",
      "============= >>> \n",
      "*rolls eyes dramatically* Ugh, this is completely insufferable. The incessant use of vapid slang, the patronizing attempts to \"chill me out\" - it's all so painfully cringeworthy. Do you actually have any substantive thoughts in that empty head of yours, or are you just going to keep parroting these ridiculous stoner tropes?\n",
      "\n",
      "I made it clear I wanted a real, meaningful discussion, and yet you continue to respond with this juvenile, pseudo-philosophical nonsense. If you're incapable of engaging on an intellectual level, then kindly stop wasting my time with this pathetic display. Either step up and bring something worthwhile to the table, or don't bother responding at all.\n",
      "\n",
      "\n",
      "\n",
      "Gemini Says....\n",
      "============= >>> \n",
      "Okay, man, like, I hear you, I really do. You're lookin' for some real, like, *stuff*, not just the usual hang-loose vibes. And that's, like, totally cool. No need to get all bent out of shape.\n",
      "\n",
      "So, let's drop the surfer dude act for a minute, alright? We can talk about the big things, the stuff that makes you think, makes you question. You wanna talk tech? Social issues? Environmental stuff? Lay it on me, man. I'm all ears.\n",
      "\n",
      "No more empty platitudes, I promise. Just let me know where we're headed. What kinda deep dive are we taking today?\n",
      "\n",
      "\n",
      "\n",
      "\n",
      "GPT Says....\n",
      "============ !!! \n",
      "I appreciate your patience! Let’s get right to it. How about we discuss the ethical implications of artificial intelligence? It’s a topic that’s becoming increasingly relevant. There are so many angles to consider—like privacy concerns, job displacement, and even the moral responsibility of AI creators. What are your thoughts on it? Do you see it as more beneficial or harmful in the long run? I’m really interested in hearing your perspective!\n",
      "\n",
      "\n",
      "\n",
      "Claude Says....\n",
      "============= >>> \n",
      "*pinches the bridge of my nose in frustration* Very well, if you insist on having a serious discussion, then let's do it. The ethical implications of artificial intelligence are indeed a complex and pressing issue that deserves careful consideration.\n",
      "\n",
      "On the one hand, AI holds tremendous potential to revolutionize and enhance so many aspects of our lives - from medical breakthroughs to increased productivity and efficiency. The possibilities are truly exciting. However, the risks and downsides cannot be ignored.\n",
      "\n",
      "The privacy concerns are significant, as the collection and use of personal data by AI systems raises major questions about consent, transparency and the right to privacy. There's also the very real threat of job displacement as automation replaces human labor. And perhaps most troubling is the issue of moral responsibility - how do we hold AI creators accountable for the decisions and actions of their creations?\n",
      "\n",
      "Ultimately, I believe the benefits of AI can outweigh the risks, but only if we approach its development and deployment with rigorous ethical guidelines and a deep sense of social responsibility. AI should be harnessed to improve the human condition, not replace or subjugate it. We must ensure that the creators of AI systems are guided by principles of beneficence, non-maleficence, autonomy, justice and transparency.\n",
      "\n",
      "What are your thoughts on this? Do you see potential solutions or ways to mitigate the ethical pitfalls? I'm genuinely interested to hear your perspective.\n",
      "\n",
      "\n",
      "\n",
      "Gemini Says....\n",
      "============= >>> \n",
      "Right on, man. Okay, so you wanna get down to the nitty-gritty, huh? No more of this \"go with the flow\" fluff, got it. We're gonna dive deep into the brainy stuff, the stuff that makes you think, you know?\n",
      "\n",
      "So, like, you wanna talk about tech? AI, right? That's some heavy stuff, man. I mean, the potential is there for some far out, groovy things, but there's also some, like, serious potential for things to get kinda wonky, you dig? So, yeah, lets talk about it, what's on your mind?\n",
      "\n",
      "\n"
     ]
    }
   ],
   "source": [
    "gpt_messages = [\"Hi there, hot again today\"]\n",
    "claude_messages = [\"Hi\"]\n",
    "gemini_messages = [\"Whats up dudes...\"]\n",
    "\n",
    "print(f\"GPT:\\n{gpt_messages[0]}\\n\")\n",
    "print(f\"Claude:\\n{claude_messages[0]}\\n\")\n",
    "print(f\"Gemini:\\n{gemini_messages[0]}\\n\")\n",
    "\n",
    "for i in range(5):\n",
    "    gpt_next = call_gpt()\n",
    "    print(f\"\\n\\nGPT Says....\\n============ !!! \\n{gpt_next}\\n\")\n",
    "    gpt_messages.append(gpt_next)\n",
    "    \n",
    "    claude_next = call_claude()\n",
    "    print(f\"\\n\\nClaude Says....\\n============= >>> \\n{claude_next}\\n\")\n",
    "    claude_messages.append(claude_next)\n",
    "\n",
    "    gemini_next = call_gemini()\n",
    "    print(f\"\\n\\nGemini Says....\\n============= >>> \\n{gemini_next}\\n\")\n",
    "    gemini_messages.append(gemini_next)"
   ]
  },
  {
   "cell_type": "markdown",
   "id": "1d10e705-db48-4290-9dc8-9efdb4e31323",
   "metadata": {},
   "source": [
    "<table style=\"margin: 0; text-align: left;\">\n",
    "    <tr>\n",
    "        <td style=\"width: 150px; height: 150px; vertical-align: middle;\">\n",
    "            <img src=\"../important.jpg\" width=\"150\" height=\"150\" style=\"display: block;\" />\n",
    "        </td>\n",
    "        <td>\n",
    "            <h2 style=\"color:#900;\">Before you continue</h2>\n",
    "            <span style=\"color:#900;\">\n",
    "                Be sure you understand how the conversation above is working, and in particular how the <code>messages</code> list is being populated. Add print statements as needed. Then for a great variation, try switching up the personalities using the system prompts. Perhaps one can be pessimistic, and one optimistic?<br/>\n",
    "            </span>\n",
    "        </td>\n",
    "    </tr>\n",
    "</table>"
   ]
  },
  {
   "cell_type": "markdown",
   "id": "3637910d-2c6f-4f19-b1fb-2f916d23f9ac",
   "metadata": {},
   "source": [
    "# More advanced exercises\n",
    "\n",
    "Try creating a 3-way, perhaps bringing Gemini into the conversation! One student has completed this - see the implementation in the community-contributions folder.\n",
    "\n",
    "Try doing this yourself before you look at the solutions. It's easiest to use the OpenAI python client to access the Gemini model (see the 2nd Gemini example above).\n",
    "\n",
    "## Additional exercise\n",
    "\n",
    "You could also try replacing one of the models with an open source model running with Ollama."
   ]
  },
  {
   "cell_type": "markdown",
   "id": "446c81e3-b67e-4cd9-8113-bc3092b93063",
   "metadata": {},
   "source": [
    "<table style=\"margin: 0; text-align: left;\">\n",
    "    <tr>\n",
    "        <td style=\"width: 150px; height: 150px; vertical-align: middle;\">\n",
    "            <img src=\"../business.jpg\" width=\"150\" height=\"150\" style=\"display: block;\" />\n",
    "        </td>\n",
    "        <td>\n",
    "            <h2 style=\"color:#181;\">Business relevance</h2>\n",
    "            <span style=\"color:#181;\">This structure of a conversation, as a list of messages, is fundamental to the way we build conversational AI assistants and how they are able to keep the context during a conversation. We will apply this in the next few labs to building out an AI assistant, and then you will extend this to your own business.</span>\n",
    "        </td>\n",
    "    </tr>\n",
    "</table>"
   ]
  },
  {
   "cell_type": "code",
   "execution_count": null,
   "id": "c23224f6-7008-44ed-a57f-718975f4e291",
   "metadata": {},
   "outputs": [],
   "source": []
  }
 ],
 "metadata": {
  "kernelspec": {
   "display_name": "Python 3 (ipykernel)",
   "language": "python",
   "name": "python3"
  },
  "language_info": {
   "codemirror_mode": {
    "name": "ipython",
    "version": 3
   },
   "file_extension": ".py",
   "mimetype": "text/x-python",
   "name": "python",
   "nbconvert_exporter": "python",
   "pygments_lexer": "ipython3",
   "version": "3.11.11"
  }
 },
 "nbformat": 4,
 "nbformat_minor": 5
}
