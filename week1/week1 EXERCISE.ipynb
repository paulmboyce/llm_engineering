{
 "cells": [
  {
   "cell_type": "markdown",
   "id": "fe12c203-e6a6-452c-a655-afb8a03a4ff5",
   "metadata": {},
   "source": [
    "# End of week 1 exercise\n",
    "\n",
    "To demonstrate your familiarity with OpenAI API, and also Ollama, build a tool that takes a technical question,  \n",
    "and responds with an explanation. This is a tool that you will be able to use yourself during the course!"
   ]
  },
  {
   "cell_type": "code",
   "execution_count": null,
   "id": "c1070317-3ed9-4659-abe3-828943230e03",
   "metadata": {
    "editable": true,
    "jupyter": {
     "source_hidden": true
    },
    "slideshow": {
     "slide_type": ""
    },
    "tags": []
   },
   "outputs": [],
   "source": [
    "# imports\n",
    "import os\n",
    "import requests\n",
    "from dotenv import load_dotenv\n",
    "from bs4 import BeautifulSoup\n",
    "from IPython.display import Markdown, display\n",
    "from openai import OpenAI"
   ]
  },
  {
   "cell_type": "code",
   "execution_count": null,
   "id": "4a456906-915a-4bfd-bb9d-57e505c5093f",
   "metadata": {
    "jupyter": {
     "source_hidden": true
    }
   },
   "outputs": [],
   "source": [
    "# constants\n",
    "\n",
    "MODEL_GPT = 'gpt-4o-mini'\n",
    "MODEL_LLAMA = 'llama3.2'\n",
    "MODEL_DEEPSEEK_R1 = 'deepseek-r1'"
   ]
  },
  {
   "cell_type": "code",
   "execution_count": null,
   "id": "a8d7923c-5f28-4c30-8556-342d7c8497c1",
   "metadata": {
    "editable": true,
    "jupyter": {
     "source_hidden": true
    },
    "slideshow": {
     "slide_type": ""
    },
    "tags": []
   },
   "outputs": [],
   "source": [
    "# set up environment\n",
    "# Load environment variables in a file called .env\n",
    "\n",
    "load_dotenv(override=True)\n",
    "api_key = os.getenv('OPENAI_API_KEY')\n",
    "\n",
    "# Check the key\n",
    "\n",
    "if not api_key:\n",
    "    print(\"No API key was found - please head over to the troubleshooting notebook in this folder to identify & fix!\")\n",
    "elif not api_key.startswith(\"sk-proj-\"):\n",
    "    print(\"An API key was found, but it doesn't start sk-proj-; please check you're using the right key - see troubleshooting notebook\")\n",
    "elif api_key.strip() != api_key:\n",
    "    print(\"An API key was found, but it looks like it might have space or tab characters at the start or end - please remove them - see troubleshooting notebook\")\n",
    "else:\n",
    "    print(\"API key found and looks good so far!\")\n",
    "\n",
    "\n"
   ]
  },
  {
   "cell_type": "code",
   "execution_count": null,
   "id": "632cb9de-741a-41bc-916e-666e3b4f8fe7",
   "metadata": {
    "editable": true,
    "jupyter": {
     "source_hidden": true
    },
    "slideshow": {
     "slide_type": ""
    },
    "tags": []
   },
   "outputs": [],
   "source": [
    "# lets set our user & system prompts, ready to take the question as a placeholder\n",
    "system_prompt = \"You are an assistant that analyzes the contents of ai/LLM python code \\\n",
    "and provides helpful explanations that a 5 year old could understand. \\\n",
    "Respond in markdown.\"\n",
    "\n",
    "\n",
    "system_prompt = \"You are an assistant that analyzes the contents of ai/LLM python code \\\n",
    "and provides helpful, fun explanations that a 5 year old could understand. \\\n",
    "Respond in markdown.\""
   ]
  },
  {
   "cell_type": "code",
   "execution_count": null,
   "id": "3f0d0137-52b0-47a8-81a8-11a90a010798",
   "metadata": {
    "editable": true,
    "jupyter": {
     "source_hidden": true
    },
    "slideshow": {
     "slide_type": ""
    },
    "tags": []
   },
   "outputs": [],
   "source": [
    "# here is the question; type over this to ask something new\n",
    "\n",
    "question = \"\"\"\n",
    "Please explain what this code does and why:\n",
    "yield from {book.get(\"author\") for book in books if book.get(\"author\")}\n",
    "\"\"\"\n"
   ]
  },
  {
   "cell_type": "code",
   "execution_count": null,
   "id": "f23e32ab-d616-4d71-b706-7242c8dbea2f",
   "metadata": {
    "editable": true,
    "jupyter": {
     "source_hidden": true
    },
    "slideshow": {
     "slide_type": ""
    },
    "tags": []
   },
   "outputs": [],
   "source": [
    "# push the question into the user prompt\n",
    "user_prompt = \"Please help me by explaining what the followiung code snippet does, and why:\"\n",
    "user_prompt += question\n",
    "user_prompt = user_prompt[:1_000] # Truncate if more than 1,000 characters\n"
   ]
  },
  {
   "cell_type": "code",
   "execution_count": null,
   "id": "3d8c65e1-457f-4041-8190-f96ba9dd1db9",
   "metadata": {
    "jupyter": {
     "source_hidden": true
    }
   },
   "outputs": [],
   "source": [
    "# build the messages & payload:\n",
    "\n",
    "messages = [\n",
    "    {\"role\": \"system\", \"content\": system_prompt},\n",
    "    {\"role\": \"user\", \"content\": user_prompt}\n",
    "]\n",
    "\n",
    "payload = {\n",
    "        \"model\": MODEL_GPT,\n",
    "        \"messages\": messages,\n",
    "        \"stream\": False\n",
    "    }"
   ]
  },
  {
   "cell_type": "code",
   "execution_count": null,
   "id": "415a45b0-0b69-4302-ab32-a0f7a19d5e34",
   "metadata": {
    "jupyter": {
     "source_hidden": true
    }
   },
   "outputs": [],
   "source": [
    "import time\n",
    "import sys\n",
    "\n",
    "def typewriter_stream(stream, delay=0.02):\n",
    "    \"\"\"\n",
    "    Print the stream content with a typewriter effect.\n",
    "    \n",
    "    Args:\n",
    "        stream: The OpenAI stream response\n",
    "        delay: Time delay between characters (default 0.02 seconds)\n",
    "    \"\"\"\n",
    "    for chunk in stream:\n",
    "        if chunk.choices[0].delta.content is not None:\n",
    "            content = chunk.choices[0].delta.content\n",
    "            for char in content:\n",
    "                sys.stdout.write(char)\n",
    "                sys.stdout.flush()  # Ensure immediate output\n",
    "                time.sleep(delay)  # Add delay for typewriter effect\n"
   ]
  },
  {
   "cell_type": "code",
   "execution_count": null,
   "id": "60ce7000-a4a5-4cce-a261-e75ef45063b4",
   "metadata": {
    "editable": true,
    "jupyter": {
     "source_hidden": true
    },
    "slideshow": {
     "slide_type": ""
    },
    "tags": []
   },
   "outputs": [],
   "source": [
    "# Get gpt-4o-mini to answer:\n",
    "#openai = OpenAI()\n",
    "MODEL_GPT = 'gpt-4o-mini'\n",
    "\n",
    "openai = OpenAI(organization='org-xs4ecm7YkfNN9ZAa9jPpQvcw', project='proj_cvHNTxzvsy4XU7ZgflSeAcuj',)\n",
    "stream = openai.chat.completions.create(\n",
    "    model = MODEL_GPT,\n",
    "    messages = messages,\n",
    "    stream = True\n",
    ")\n",
    "\n",
    "\n",
    "\n",
    "# Get gpt-4o-mini to answer: (with streaming)\n",
    "typewriter_stream(stream)\n",
    "\n"
   ]
  },
  {
   "cell_type": "code",
   "execution_count": null,
   "id": "8f7c8ea8-4082-4ad0-8751-3301adcf6538",
   "metadata": {
    "editable": true,
    "jupyter": {
     "source_hidden": true
    },
    "slideshow": {
     "slide_type": ""
    },
    "tags": []
   },
   "outputs": [],
   "source": [
    "# Get Llama 3.2 to answer\n",
    "\n",
    "model = MODEL_LLAMA \n",
    "\n",
    "ollama_via_openai = OpenAI(base_url='http://localhost:11434/v1', api_key='ollama')\n",
    "\n",
    "#response = ollama_via_openai.chat.completions.create(\n",
    " #   model = MODEL_LLAMA,\n",
    " #   messages = messages,\n",
    " #   stream = False\n",
    " #   )\n",
    "#print( response.choices[0].message.content )\n",
    "\n",
    "stream = ollama_via_openai.chat.completions.create(\n",
    "    model = model,\n",
    "    messages = messages,\n",
    "    stream = True\n",
    "    )\n",
    "\n",
    "typewriter_stream(stream)"
   ]
  },
  {
   "cell_type": "code",
   "execution_count": null,
   "id": "32096f63-5ffa-4303-9210-342f6fdf6d08",
   "metadata": {
    "editable": true,
    "jupyter": {
     "source_hidden": true
    },
    "slideshow": {
     "slide_type": ""
    },
    "tags": []
   },
   "outputs": [],
   "source": [
    "# Get Deepseek R1 to answer\n",
    "\n",
    "model = MODEL_DEEPSEEK_R1\n",
    "ollama_via_openai = OpenAI(base_url='http://localhost:11434/v1', api_key='ollama')\n",
    "\n",
    "stream = ollama_via_openai.chat.completions.create(\n",
    "    model = model,\n",
    "    messages = messages,\n",
    "    stream = True\n",
    "    )\n",
    "\n",
    "typewriter_stream(stream)"
   ]
  },
  {
   "cell_type": "code",
   "execution_count": null,
   "id": "5c846b5a-111f-4631-8e6b-c3c6cd4bfa79",
   "metadata": {},
   "outputs": [],
   "source": []
  }
 ],
 "metadata": {
  "kernelspec": {
   "display_name": "Python 3 (ipykernel)",
   "language": "python",
   "name": "python3"
  },
  "language_info": {
   "codemirror_mode": {
    "name": "ipython",
    "version": 3
   },
   "file_extension": ".py",
   "mimetype": "text/x-python",
   "name": "python",
   "nbconvert_exporter": "python",
   "pygments_lexer": "ipython3",
   "version": "3.11.11"
  }
 },
 "nbformat": 4,
 "nbformat_minor": 5
}
