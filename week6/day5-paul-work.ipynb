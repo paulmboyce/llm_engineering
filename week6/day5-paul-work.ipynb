{
 "cells": [
  {
   "cell_type": "markdown",
   "id": "db8736a7-ed94-441c-9556-831fa57b5a10",
   "metadata": {},
   "source": [
    "# The Product Pricer Continued\n",
    "\n",
    "A model that can estimate how much something costs, from its description.\n",
    "\n",
    "## AT LAST - it's time for Fine Tuning!\n",
    "\n",
    "After all this data preparation, and old school machine learning, we've finally arrived at the moment you've been waiting for. Fine-tuning a model."
   ]
  },
  {
   "cell_type": "code",
   "execution_count": 1,
   "id": "681c717b-4c24-4ac3-a5f3-3c5881d6e70a",
   "metadata": {},
   "outputs": [],
   "source": [
    "# imports\n",
    "\n",
    "import os\n",
    "import re\n",
    "import math\n",
    "import json\n",
    "import random\n",
    "from dotenv import load_dotenv\n",
    "from huggingface_hub import login\n",
    "import matplotlib.pyplot as plt\n",
    "import numpy as np\n",
    "import pickle\n",
    "from collections import Counter\n",
    "from openai import OpenAI\n",
    "from anthropic import Anthropic"
   ]
  },
  {
   "cell_type": "code",
   "execution_count": 2,
   "id": "36d05bdc-0155-4c72-a7ee-aa4e614ffd3c",
   "metadata": {
    "editable": true,
    "slideshow": {
     "slide_type": ""
    },
    "tags": []
   },
   "outputs": [],
   "source": [
    "# environment\n",
    "\n",
    "load_dotenv(override=True)\n",
    "os.environ['OPENAI_API_KEY'] = os.getenv('OPENAI_API_KEY', 'your-key-if-not-using-env')\n",
    "os.environ['ANTHROPIC_API_KEY'] = os.getenv('ANTHROPIC_API_KEY', 'your-key-if-not-using-env')\n",
    "os.environ['HF_TOKEN'] = os.getenv('HF_TOKEN', 'your-key-if-not-using-env')"
   ]
  },
  {
   "cell_type": "code",
   "execution_count": 3,
   "id": "4dd3aad2-6f99-433c-8792-e461d2f06622",
   "metadata": {
    "editable": true,
    "slideshow": {
     "slide_type": ""
    },
    "tags": []
   },
   "outputs": [
    {
     "name": "stderr",
     "output_type": "stream",
     "text": [
      "Note: Environment variable`HF_TOKEN` is set and is the current active token independently from the token you've just configured.\n"
     ]
    }
   ],
   "source": [
    "# Log in to HuggingFace\n",
    "\n",
    "hf_token = os.environ['HF_TOKEN']\n",
    "login(hf_token, add_to_git_credential=True)"
   ]
  },
  {
   "cell_type": "code",
   "execution_count": 4,
   "id": "884a50bd-8cae-425e-8e56-f079fc3e65ce",
   "metadata": {},
   "outputs": [],
   "source": [
    "# moved our Tester into a separate package\n",
    "# call it with Tester.test(function_name, test_dataset)\n",
    "\n",
    "from items import Item\n",
    "from testing import Tester"
   ]
  },
  {
   "cell_type": "code",
   "execution_count": 5,
   "id": "b0a6fb86-74a4-403c-ab25-6db2d74e9d2b",
   "metadata": {},
   "outputs": [],
   "source": [
    "openai = OpenAI()"
   ]
  },
  {
   "cell_type": "code",
   "execution_count": 6,
   "id": "c830ed3e-24ee-4af6-a07b-a1bfdcd39278",
   "metadata": {},
   "outputs": [],
   "source": [
    "%matplotlib inline"
   ]
  },
  {
   "cell_type": "code",
   "execution_count": 7,
   "id": "18068c60-a9e5-47c6-bef3-de839e54153a",
   "metadata": {
    "editable": true,
    "slideshow": {
     "slide_type": ""
    },
    "tags": []
   },
   "outputs": [],
   "source": [
    "# from datasets import load_dataset\n",
    "\n",
    "# dataset = load_dataset(\"stevhliu/demo\")"
   ]
  },
  {
   "cell_type": "code",
   "execution_count": 1,
   "id": "3140b157-3eec-4a1e-a1c4-f14746231fe3",
   "metadata": {
    "editable": true,
    "slideshow": {
     "slide_type": ""
    },
    "tags": []
   },
   "outputs": [
    {
     "name": "stdout",
     "output_type": "stream",
     "text": [
      "How much does this cost to the nearest dollar?\n",
      "\n",
      "Power Stop Rear Z36 Truck and Tow Brake Kit with Calipers\n",
      "The Power Stop Z36 Truck & Tow Performance brake kit provides the superior stopping power demanded by those who tow boats, haul loads, tackle mountains, lift trucks, and play in the harshest conditions. The brake rotors are drilled to keep temperatures down during extreme braking and slotted to sweep away any debris for constant pad contact. Combined with our Z36 Carbon-Fiber Ceramic performance friction formulation, you can confidently push your rig to the limit and look good doing it with red powder brake calipers. Components are engineered to handle the stress of towing, hauling, mountainous driving, and lifted trucks. Dust-free braking performance. Z36 Carbon-Fiber Ceramic formula provides the extreme braking performance demanded by your truck or 4x\n",
      "\n",
      "Price is $507.00\n",
      "506.98\n",
      "How much does this cost to the nearest dollar?\n",
      "\n",
      "Motorcraft YB3125 Fan Clutch\n",
      "Motorcraft YB3125 Fan Clutch Package Dimensions 25.146 cms (L) x 20.066 cms (W) x 15.494 cms (H) Package Quantity 1 Product Type Auto Part Country Of Origin China Manufacturer Motorcraft, Brand Motorcraft, Model Fan Clutch, Weight 5 pounds, Dimensions 10 x 7.63 x 6.25 inches, Country of Origin China, model number Exterior Painted, Manufacturer Part Rank Automotive Automotive Replacement Engine Fan Clutches 583, Domestic Shipping can be shipped within U.S., International Shipping This item can be shipped to select countries outside of the U.S. Learn More, Available October 10, 2007\n",
      "\n",
      "Price is $\n",
      "225.11\n"
     ]
    }
   ],
   "source": [
    "##!! Downloaded data sets dont function as Items.\n",
    "## Instead downloading Eds pickle files from:\n",
    "## https://drive.google.com/drive/folders/1f_IZGybvs9o0J5sb3xmtTEQB3BXllzrW\n",
    "\n",
    "# Ed Donner larger set. 400k\n",
    "# https://huggingface.co/datasets/ed-donner/pricer-data\n",
    "# My smaller data set:   290k\n",
    "# https://huggingface.co/datasets/altstuff001/pricer-data\n",
    "\n",
    "from datasets import load_dataset\n",
    "from types import SimpleNamespace\n",
    "\n",
    "hf_dataset = load_dataset(\"ed-donner/pricer-data\")\n",
    "\n",
    "## Access the TRAIN data\n",
    "\n",
    "\n",
    "# convert dataset to a dict:\n",
    "dict_train = [{\"text\": item[\"text\"], \"price\": item[\"price\"]} for item in hf_dataset[\"train\"]]\n",
    "# Enable dot notation:\n",
    "train = [SimpleNamespace(**item) for item in dict_train]\n",
    "\n",
    "# Convert dictionaries to objects with dot notation\n",
    "\n",
    "## Access the TEST data\n",
    "# convert dataset to a dict:\n",
    "dict_test = [{\"text\": item[\"text\"], \"price\": item[\"price\"]} for item in hf_dataset[\"test\"]]\n",
    "# Enable dot notation:\n",
    "test = [SimpleNamespace(**item) for item in dict_test]\n",
    "\n",
    "print(train[1].text)\n",
    "print(train[1].price)\n",
    "print(test[1].text)\n",
    "print(test[1].price)\n",
    "\n"
   ]
  },
  {
   "cell_type": "code",
   "execution_count": 9,
   "id": "559bcc4f-3bbf-47d8-8770-d5f74d7335b6",
   "metadata": {},
   "outputs": [],
   "source": [
    "# One more thing!\n",
    "# Let's pickle the training and test dataset so we don't have to execute all this code next time!\n",
    "\n",
    "#with open('train-ed.pkl', 'wb') as file:\n",
    "#    pickle.dump(train_data, file)\n",
    "\n",
    "#with open('test-ed.pkl', 'wb') as file:\n",
    "#    pickle.dump(test_data, file)"
   ]
  },
  {
   "cell_type": "code",
   "execution_count": 10,
   "id": "5c9b05f4-c9eb-462c-8d86-de9140a2d985",
   "metadata": {
    "editable": true,
    "slideshow": {
     "slide_type": ""
    },
    "tags": []
   },
   "outputs": [
    {
     "name": "stdout",
     "output_type": "stream",
     "text": [
      "<Delphi FG0166 Fuel Pump Module = $226.95>\n",
      "<OEM AC Compressor w/A/C Repair Kit For Ford F150 F-150 V8 & Lincoln Mark LT 2007 2008 - BuyAutoParts 60-83447RN NEW = $374.41>\n"
     ]
    }
   ],
   "source": [
    "# Let's avoid curating all our data again! Load in the pickle files:\n",
    "\n",
    "#with open('pickle-ed/train.pkl', 'rb') as file:\n",
    "#    train = pickle.load(file)\n",
    "\n",
    "#with open('pickle-ed/test.pkl', 'rb') as file:\n",
    "#    test = pickle.load(file)\n",
    "\n",
    "print(train[0])    \n",
    "print(test[0])    "
   ]
  },
  {
   "cell_type": "code",
   "execution_count": 24,
   "id": "ef8c4d17-2ab6-4714-b997-9dc998ee6691",
   "metadata": {},
   "outputs": [
    {
     "name": "stdout",
     "output_type": "stream",
     "text": [
      "Loaded 400000 training points\n",
      " eg:\n",
      "<Delphi FG0166 Fuel Pump Module = $226.95>\n",
      "\n",
      "\n",
      "Loaded 2000 test points\n",
      " eg:\n",
      "<OEM AC Compressor w/A/C Repair Kit For Ford F150 F-150 V8 & Lincoln Mark LT 2007 2008 - BuyAutoParts 60-83447RN NEW = $374.41>\n"
     ]
    }
   ],
   "source": [
    "print(f'Loaded {len(train)} training points\\n eg:')\n",
    "print(train[0])   \n",
    "print(f'\\n\\nLoaded {len(test)} test points\\n eg:')\n",
    "print(test[0]) "
   ]
  },
  {
   "cell_type": "code",
   "execution_count": 11,
   "id": "e8367135-f40e-43e1-8f3c-09e990ab1194",
   "metadata": {},
   "outputs": [],
   "source": [
    "# OpenAI recommends fine-tuning with populations of 50-100 examples\n",
    "# But as our examples are very small, I'm suggesting we go with 200 examples (and 1 epoch)\n",
    "\n",
    "fine_tune_train = train[:200]\n",
    "fine_tune_validation = train[200:250]"
   ]
  },
  {
   "cell_type": "markdown",
   "id": "8be4a889-81c3-42b1-a2fc-034cdc7321a6",
   "metadata": {},
   "source": [
    "# Step 1\n",
    "\n",
    "Prepare our data for fine-tuning in JSONL (JSON Lines) format and upload to OpenAI"
   ]
  },
  {
   "cell_type": "code",
   "execution_count": 12,
   "id": "8ae2fb3c-1cff-4ce3-911e-627c970edd7b",
   "metadata": {},
   "outputs": [],
   "source": [
    "# First let's work on a good prompt for a Frontier model\n",
    "# Notice that I'm removing the \" to the nearest dollar\"\n",
    "# When we train our own models, we'll need to make the problem as easy as possible, \n",
    "# but a Frontier model needs no such simplification.\n",
    "\n",
    "def messages_for(item):\n",
    "    system_message = \"You estimate prices of items. Reply only with the price, no explanation\"\n",
    "    user_prompt = item.test_prompt().replace(\" to the nearest dollar\",\"\").replace(\"\\n\\nPrice is $\",\"\")\n",
    "    return [\n",
    "        {\"role\": \"system\", \"content\": system_message},\n",
    "        {\"role\": \"user\", \"content\": user_prompt},\n",
    "        {\"role\": \"assistant\", \"content\": f\"Price is ${item.price:.2f}\"}\n",
    "    ]"
   ]
  },
  {
   "cell_type": "code",
   "execution_count": 42,
   "id": "1aa280f6-1227-426a-a2e2-1ce985feba1e",
   "metadata": {
    "editable": true,
    "slideshow": {
     "slide_type": ""
    },
    "tags": []
   },
   "outputs": [
    {
     "name": "stdout",
     "output_type": "stream",
     "text": [
      "How much does this cost to the nearest dollar?\n",
      "\n",
      "Delphi FG0166 Fuel Pump Module\n",
      "Delphi brings 80 years of OE Heritage into each Delphi pump, ensuring quality and fitment for each Delphi part. Part is validated, tested and matched to the right vehicle application Delphi brings 80 years of OE Heritage into each Delphi assembly, ensuring quality and fitment for each Delphi part Always be sure to check and clean fuel tank to avoid unnecessary returns Rigorous OE-testing ensures the pump can withstand extreme temperatures Brand Delphi, Fit Type Vehicle Specific Fit, Dimensions LxWxH 19.7 x 7.7 x 5.1 inches, Weight 2.2 Pounds, Auto Part Position Unknown, Operation Mode Mechanical, Manufacturer Delphi, Model FUEL PUMP, Dimensions 19.7\n",
      "\n",
      "Price is $\n"
     ]
    },
    {
     "data": {
      "text/plain": [
       "[{'role': 'system',\n",
       "  'content': 'You estimate prices of items. Reply only with the price, no explanation'},\n",
       " {'role': 'user',\n",
       "  'content': 'How much does this cost?\\n\\nDelphi FG0166 Fuel Pump Module\\nDelphi brings 80 years of OE Heritage into each Delphi pump, ensuring quality and fitment for each Delphi part. Part is validated, tested and matched to the right vehicle application Delphi brings 80 years of OE Heritage into each Delphi assembly, ensuring quality and fitment for each Delphi part Always be sure to check and clean fuel tank to avoid unnecessary returns Rigorous OE-testing ensures the pump can withstand extreme temperatures Brand Delphi, Fit Type Vehicle Specific Fit, Dimensions LxWxH 19.7 x 7.7 x 5.1 inches, Weight 2.2 Pounds, Auto Part Position Unknown, Operation Mode Mechanical, Manufacturer Delphi, Model FUEL PUMP, Dimensions 19.7'},\n",
       " {'role': 'assistant', 'content': 'Price is $226.95'}]"
      ]
     },
     "execution_count": 42,
     "metadata": {},
     "output_type": "execute_result"
    }
   ],
   "source": [
    "print(train[0].test_prompt())\n",
    "\n",
    "messages_for(train[0])"
   ]
  },
  {
   "cell_type": "code",
   "execution_count": 25,
   "id": "c0e5b56c-8a0b-4d8e-a112-ce87efb4e152",
   "metadata": {},
   "outputs": [],
   "source": [
    "# Convert the items into a list of json objects - a \"jsonl\" string\n",
    "# Each row represents a message in the form:\n",
    "# {\"messages\" : [{\"role\": \"system\", \"content\": \"You estimate prices...\n",
    "\n",
    "\n",
    "def make_jsonl(items):\n",
    "    result = \"\"\n",
    "    for item in items:\n",
    "        messages = messages_for(item)\n",
    "        messages_str = json.dumps(messages)\n",
    "        result += '{\"messages\": ' + messages_str +'}\\n'\n",
    "    return result.strip()"
   ]
  },
  {
   "cell_type": "code",
   "execution_count": 26,
   "id": "5e72de93-a6a6-4b35-855e-15786b97bf5f",
   "metadata": {},
   "outputs": [
    {
     "name": "stdout",
     "output_type": "stream",
     "text": [
      "{\"messages\": [{\"role\": \"system\", \"content\": \"You estimate prices of items. Reply only with the price, no explanation\"}, {\"role\": \"user\", \"content\": \"How much does this cost?\\n\\nDelphi FG0166 Fuel Pump Module\\nDelphi brings 80 years of OE Heritage into each Delphi pump, ensuring quality and fitment for each Delphi part. Part is validated, tested and matched to the right vehicle application Delphi brings 80 years of OE Heritage into each Delphi assembly, ensuring quality and fitment for each Delphi part Always be sure to check and clean fuel tank to avoid unnecessary returns Rigorous OE-testing ensures the pump can withstand extreme temperatures Brand Delphi, Fit Type Vehicle Specific Fit, Dimensions LxWxH 19.7 x 7.7 x 5.1 inches, Weight 2.2 Pounds, Auto Part Position Unknown, Operation Mode Mechanical, Manufacturer Delphi, Model FUEL PUMP, Dimensions 19.7\"}, {\"role\": \"assistant\", \"content\": \"Price is $226.95\"}]}\n",
      "{\"messages\": [{\"role\": \"system\", \"content\": \"You estimate prices of items. Reply only with the price, no explanation\"}, {\"role\": \"user\", \"content\": \"How much does this cost?\\n\\nPower Stop Rear Z36 Truck and Tow Brake Kit with Calipers\\nThe Power Stop Z36 Truck & Tow Performance brake kit provides the superior stopping power demanded by those who tow boats, haul loads, tackle mountains, lift trucks, and play in the harshest conditions. The brake rotors are drilled to keep temperatures down during extreme braking and slotted to sweep away any debris for constant pad contact. Combined with our Z36 Carbon-Fiber Ceramic performance friction formulation, you can confidently push your rig to the limit and look good doing it with red powder brake calipers. Components are engineered to handle the stress of towing, hauling, mountainous driving, and lifted trucks. Dust-free braking performance. Z36 Carbon-Fiber Ceramic formula provides the extreme braking performance demanded by your truck or 4x\"}, {\"role\": \"assistant\", \"content\": \"Price is $506.98\"}]}\n",
      "{\"messages\": [{\"role\": \"system\", \"content\": \"You estimate prices of items. Reply only with the price, no explanation\"}, {\"role\": \"user\", \"content\": \"How much does this cost?\\n\\nABBA 36 Gas Cooktop with 5 Sealed Burners - Tempered Glass Surface with SABAF Burners, Natural Gas Stove for Countertop, Home Improvement Essentials, Easy to Clean, 36 x 4.1 x 20.5\\ncooktop Gas powered with 4 fast burners and 1 ultra-fast center burner Tempered glass surface with removable grid for easy cleaning Lightweight for easy installation. Installation Manual Included Counter cutout Dimensions 19 3/8 x 34 1/2 (see diagram) Insured shipping for your satisfaction and peace of mind Brand Name ABBA EST. 1956, Weight 30 pounds, Dimensions 20.5\\\\ D x 36\\\\ W x 4.1\\\\ H, Installation Type Count\"}, {\"role\": \"assistant\", \"content\": \"Price is $405.00\"}]}\n"
     ]
    }
   ],
   "source": [
    "print(make_jsonl(train[:3]))"
   ]
  },
  {
   "cell_type": "code",
   "execution_count": 27,
   "id": "7734bff0-95c4-4e67-a87e-7e2254e2c67d",
   "metadata": {},
   "outputs": [],
   "source": [
    "# Convert the items into jsonl and write them to a file\n",
    "\n",
    "def write_jsonl(items, filename):\n",
    "    with open(filename, \"w\") as f:\n",
    "        jsonl = make_jsonl(items)\n",
    "        f.write(jsonl)"
   ]
  },
  {
   "cell_type": "code",
   "execution_count": 28,
   "id": "393d3ad8-999a-4f99-8c04-339d9166d604",
   "metadata": {},
   "outputs": [],
   "source": [
    "write_jsonl(fine_tune_train, \"fine_tune_train.jsonl\")"
   ]
  },
  {
   "cell_type": "code",
   "execution_count": 29,
   "id": "8e23927f-d73e-4668-ac20-abe6f14a56cb",
   "metadata": {},
   "outputs": [],
   "source": [
    "write_jsonl(fine_tune_validation, \"fine_tune_validation.jsonl\")"
   ]
  },
  {
   "cell_type": "code",
   "execution_count": 30,
   "id": "d59ad8d2-c61a-448e-b7ed-232f1606970f",
   "metadata": {},
   "outputs": [],
   "source": [
    "## Upload to OpenAI\n",
    "\n",
    "# !IMPORTANT \"rb\" Read Binary = open as binary bytes file\n",
    "\n",
    "with open(\"fine_tune_train.jsonl\", \"rb\") as f:\n",
    "    train_file = openai.files.create(file=f, purpose=\"fine-tune\")"
   ]
  },
  {
   "cell_type": "code",
   "execution_count": 31,
   "id": "083fefba-fd54-47ce-9ff3-aabbc200846f",
   "metadata": {},
   "outputs": [
    {
     "data": {
      "text/plain": [
       "FileObject(id='file-NY3WrFPGfVYxBVhhVdDJG6', bytes=188543, created_at=1744285865, filename='fine_tune_train.jsonl', object='file', purpose='fine-tune', status='processed', status_details=None, expires_at=None)"
      ]
     },
     "execution_count": 31,
     "metadata": {},
     "output_type": "execute_result"
    }
   ],
   "source": [
    "train_file"
   ]
  },
  {
   "cell_type": "code",
   "execution_count": 32,
   "id": "97df3360-0760-4422-a556-5f26d23de6dc",
   "metadata": {},
   "outputs": [],
   "source": [
    "## Upload to OpenAI\n",
    "\n",
    "with open(\"fine_tune_validation.jsonl\", \"rb\") as f:\n",
    "    validation_file = openai.files.create(file=f, purpose=\"fine-tune\")"
   ]
  },
  {
   "cell_type": "code",
   "execution_count": 33,
   "id": "a1abb8f3-9e52-4061-970c-fcf399d8ffa3",
   "metadata": {},
   "outputs": [
    {
     "data": {
      "text/plain": [
       "FileObject(id='file-C9DxZLRKUQPE2JQcwU2XzC', bytes=47036, created_at=1744285875, filename='fine_tune_validation.jsonl', object='file', purpose='fine-tune', status='processed', status_details=None, expires_at=None)"
      ]
     },
     "execution_count": 33,
     "metadata": {},
     "output_type": "execute_result"
    }
   ],
   "source": [
    "validation_file"
   ]
  },
  {
   "cell_type": "markdown",
   "id": "466052b9-9fb9-48f6-8cf9-c74e6ddc1394",
   "metadata": {},
   "source": [
    "# Step 2\n",
    "\n",
    "I love Weights and Biases - a beautiful, free platform for monitoring training runs.  \n",
    "Weights and Biases is integrated with OpenAI for fine-tuning.\n",
    "\n",
    "First set up your weights & biases free account at:\n",
    "\n",
    "https://wandb.ai\n",
    "\n",
    "From the Avatar >> Settings menu, near the bottom, you can create an API key.\n",
    "\n",
    "Then visit the OpenAI dashboard at:\n",
    "\n",
    "https://platform.openai.com/account/organization\n",
    "\n",
    "In the integrations section, you can add your Weights & Biases key.\n",
    "\n",
    "## And now time to Fine-tune!"
   ]
  },
  {
   "cell_type": "code",
   "execution_count": 34,
   "id": "c7add1a7-a746-4d6e-a5f8-e25629b8b527",
   "metadata": {},
   "outputs": [],
   "source": [
    "wandb_integration = {\"type\": \"wandb\", \"wandb\": {\"project\": \"gpt-pricer\"}}"
   ]
  },
  {
   "cell_type": "code",
   "execution_count": 37,
   "id": "49801e69-9277-4deb-9f33-99efb6b45ac2",
   "metadata": {},
   "outputs": [
    {
     "name": "stdout",
     "output_type": "stream",
     "text": [
      "file-NY3WrFPGfVYxBVhhVdDJG6\n",
      "file-C9DxZLRKUQPE2JQcwU2XzC\n"
     ]
    }
   ],
   "source": [
    "print(train_file.id)\n",
    "print(validation_file.id)"
   ]
  },
  {
   "cell_type": "code",
   "execution_count": 43,
   "id": "45421b86-5531-4e42-ab19-d6abbb8f4c13",
   "metadata": {},
   "outputs": [
    {
     "data": {
      "text/plain": [
       "FineTuningJob(id='ftjob-aM235qvMmHMpgEM2BBL9FKgh', created_at=1744369243, error=Error(code=None, message=None, param=None), fine_tuned_model=None, finished_at=None, hyperparameters=Hyperparameters(batch_size='auto', learning_rate_multiplier='auto', n_epochs=1), model='gpt-4o-mini-2024-07-18', object='fine_tuning.job', organization_id='org-xs4ecm7YkfNN9ZAa9jPpQvcw', result_files=[], seed=42, status='validating_files', trained_tokens=None, training_file='file-NY3WrFPGfVYxBVhhVdDJG6', validation_file='file-C9DxZLRKUQPE2JQcwU2XzC', estimated_finish=None, integrations=[FineTuningJobWandbIntegrationObject(type='wandb', wandb=FineTuningJobWandbIntegration(project='gpt-pricer', entity=None, name=None, tags=None, run_id='ftjob-aM235qvMmHMpgEM2BBL9FKgh'))], method=Method(dpo=None, supervised=MethodSupervised(hyperparameters=MethodSupervisedHyperparameters(batch_size='auto', learning_rate_multiplier='auto', n_epochs=1)), type='supervised'), user_provided_suffix='pricer', metadata=None)"
      ]
     },
     "execution_count": 43,
     "metadata": {},
     "output_type": "execute_result"
    }
   ],
   "source": [
    "# SEE: https://platform.openai.com/docs/models/gpt-4o-mini\n",
    "## Currently latest is still gpt-4o-mini-2024-07-18 (at April 2025)\n",
    "## Using mini because when we tested earlier vs gpt-4o (regular) there was little difference\n",
    "## and mini is MUCH cheaper.\n",
    "\n",
    "#- seed : makes results repeatable\n",
    "#- hyperparameters: confgures any extra optimisation/tuning params for training, eg n_epochs\n",
    "#  - n_epochs : OPTIONAL, but we are providing 500 data points which\n",
    "#             is already more than recommended.\n",
    "#             Ou seja, we have a ton of training data.\n",
    "#             With less training data, we may have wanted to run several \"epochs\".\n",
    "\n",
    "#- integrations: configures \"wandb\" (https://wandb.ai/)\n",
    "#- suffix : OPTIONAL, adds to the name of the resulting model\n",
    "\n",
    "\n",
    "openai.fine_tuning.jobs.create(\n",
    "    training_file=train_file.id,\n",
    "    validation_file=validation_file.id,\n",
    "    model=\"gpt-4o-mini-2024-07-18\",\n",
    "    seed=42,\n",
    "    hyperparameters={\"n_epochs\": 1},\n",
    "    integrations = [wandb_integration],\n",
    "    suffix=\"pricer\"\n",
    ")"
   ]
  },
  {
   "cell_type": "code",
   "execution_count": 44,
   "id": "aeb9de2e-542c-4e83-81c7-b6745133e48b",
   "metadata": {},
   "outputs": [
    {
     "data": {
      "text/plain": [
       "SyncCursorPage[FineTuningJob](data=[FineTuningJob(id='ftjob-aM235qvMmHMpgEM2BBL9FKgh', created_at=1744369243, error=Error(code=None, message=None, param=None), fine_tuned_model=None, finished_at=None, hyperparameters=Hyperparameters(batch_size=1, learning_rate_multiplier=1.8, n_epochs=1), model='gpt-4o-mini-2024-07-18', object='fine_tuning.job', organization_id='org-xs4ecm7YkfNN9ZAa9jPpQvcw', result_files=[], seed=42, status='running', trained_tokens=None, training_file='file-NY3WrFPGfVYxBVhhVdDJG6', validation_file='file-C9DxZLRKUQPE2JQcwU2XzC', estimated_finish=1744369782, integrations=[FineTuningJobWandbIntegrationObject(type='wandb', wandb=FineTuningJobWandbIntegration(project='gpt-pricer', entity=None, name=None, tags=None, run_id='ftjob-aM235qvMmHMpgEM2BBL9FKgh'))], method=Method(dpo=None, supervised=MethodSupervised(hyperparameters=MethodSupervisedHyperparameters(batch_size=1, learning_rate_multiplier=1.8, n_epochs=1)), type='supervised'), user_provided_suffix='pricer', metadata=None)], object='list', has_more=False)"
      ]
     },
     "execution_count": 44,
     "metadata": {},
     "output_type": "execute_result"
    }
   ],
   "source": [
    "openai.fine_tuning.jobs.list(limit=1)"
   ]
  },
  {
   "cell_type": "code",
   "execution_count": 45,
   "id": "40d24873-8ff5-413f-b0d4-8f77c28f18e1",
   "metadata": {},
   "outputs": [],
   "source": [
    "job_id = openai.fine_tuning.jobs.list(limit=1).data[0].id"
   ]
  },
  {
   "cell_type": "code",
   "execution_count": 46,
   "id": "a32aef35-4b38-436c-ad00-d082f758efa7",
   "metadata": {},
   "outputs": [
    {
     "data": {
      "text/plain": [
       "'ftjob-aM235qvMmHMpgEM2BBL9FKgh'"
      ]
     },
     "execution_count": 46,
     "metadata": {},
     "output_type": "execute_result"
    }
   ],
   "source": [
    "job_id"
   ]
  },
  {
   "cell_type": "code",
   "execution_count": 47,
   "id": "a7e01247-c133-48e1-93d3-c79c399e6178",
   "metadata": {},
   "outputs": [
    {
     "data": {
      "text/plain": [
       "FineTuningJob(id='ftjob-aM235qvMmHMpgEM2BBL9FKgh', created_at=1744369243, error=Error(code=None, message=None, param=None), fine_tuned_model=None, finished_at=None, hyperparameters=Hyperparameters(batch_size=1, learning_rate_multiplier=1.8, n_epochs=1), model='gpt-4o-mini-2024-07-18', object='fine_tuning.job', organization_id='org-xs4ecm7YkfNN9ZAa9jPpQvcw', result_files=[], seed=42, status='running', trained_tokens=None, training_file='file-NY3WrFPGfVYxBVhhVdDJG6', validation_file='file-C9DxZLRKUQPE2JQcwU2XzC', estimated_finish=1744369775, integrations=[FineTuningJobWandbIntegrationObject(type='wandb', wandb=FineTuningJobWandbIntegration(project='gpt-pricer', entity=None, name=None, tags=None, run_id='ftjob-aM235qvMmHMpgEM2BBL9FKgh'))], method=Method(dpo=None, supervised=MethodSupervised(hyperparameters=MethodSupervisedHyperparameters(batch_size=1, learning_rate_multiplier=1.8, n_epochs=1)), type='supervised'), user_provided_suffix='pricer', metadata=None)"
      ]
     },
     "execution_count": 47,
     "metadata": {},
     "output_type": "execute_result"
    }
   ],
   "source": [
    "openai.fine_tuning.jobs.retrieve(job_id)"
   ]
  },
  {
   "cell_type": "code",
   "execution_count": 56,
   "id": "0f5150e1-b8de-485f-8eba-cf1e5b00c117",
   "metadata": {},
   "outputs": [],
   "source": [
    "events = openai.fine_tuning.jobs.list_events(fine_tuning_job_id=job_id, limit=10).data"
   ]
  },
  {
   "cell_type": "code",
   "execution_count": 61,
   "id": "9e7687ae-c38d-49b1-99e9-70534d5afea7",
   "metadata": {},
   "outputs": [
    {
     "name": "stdout",
     "output_type": "stream",
     "text": [
      "EVENT0 - The job has successfully completed\n",
      "----------\n",
      "{}\n",
      "\n",
      "\n",
      "EVENT1 - New fine-tuned model created\n",
      "----------\n",
      "{}\n",
      "\n",
      "\n",
      "EVENT2 - Step 200/200: training loss=1.14, validation loss=1.13, full validation loss=1.12\n",
      "----------\n",
      "{'step': 200, 'train_loss': 1.1376311779022217, 'valid_loss': 1.1295273303985596, 'total_steps': 200, 'full_valid_loss': 1.1193085956573485, 'train_mean_token_accuracy': 0.75, 'valid_mean_token_accuracy': 0.75, 'full_valid_mean_token_accuracy': 0.7925}\n",
      "\n",
      "\n",
      "EVENT3 - Step 199/200: training loss=1.42\n",
      "----------\n",
      "{'step': 199, 'train_loss': 1.4206628799438477, 'total_steps': 200, 'train_mean_token_accuracy': 0.75}\n",
      "\n",
      "\n",
      "EVENT4 - Step 198/200: training loss=0.52\n",
      "----------\n",
      "{'step': 198, 'train_loss': 0.5175371170043945, 'total_steps': 200, 'train_mean_token_accuracy': 0.875}\n",
      "\n",
      "\n",
      "EVENT5 - Step 197/200: training loss=1.24\n",
      "----------\n",
      "{'step': 197, 'train_loss': 1.2442662715911865, 'total_steps': 200, 'train_mean_token_accuracy': 0.75}\n",
      "\n",
      "\n",
      "EVENT6 - Step 196/200: training loss=0.87\n",
      "----------\n",
      "{'step': 196, 'train_loss': 0.8681986331939697, 'total_steps': 200, 'train_mean_token_accuracy': 0.875}\n",
      "\n",
      "\n",
      "EVENT7 - Step 195/200: training loss=1.25\n",
      "----------\n",
      "{'step': 195, 'train_loss': 1.2511980533599854, 'total_steps': 200, 'train_mean_token_accuracy': 0.75}\n",
      "\n",
      "\n",
      "EVENT8 - Step 194/200: training loss=0.99\n",
      "----------\n",
      "{'step': 194, 'train_loss': 0.9867780208587646, 'total_steps': 200, 'train_mean_token_accuracy': 0.875}\n",
      "\n",
      "\n",
      "EVENT9 - Step 193/200: training loss=1.23\n",
      "----------\n",
      "{'step': 193, 'train_loss': 1.2297937870025635, 'total_steps': 200, 'train_mean_token_accuracy': 0.75}\n",
      "\n",
      "\n"
     ]
    }
   ],
   "source": [
    "events = openai.fine_tuning.jobs.list_events(fine_tuning_job_id=job_id, limit=10).datafor index, obj in enumerate(events):\n",
    "    print(f\"EVENT{index} - {obj.message}\\n----------\\n{obj.data}\\n\\n\")"
   ]
  },
  {
   "cell_type": "code",
   "execution_count": 62,
   "id": "e8724193-5986-4feb-aaed-66e2996f3d10",
   "metadata": {},
   "outputs": [
    {
     "name": "stdout",
     "output_type": "stream",
     "text": [
      "EVENT0 - The job has successfully completed\n",
      "EVENT1 - New fine-tuned model created\n",
      "EVENT2 - Step 200/200: training loss=1.14, validation loss=1.13, full validation loss=1.12\n",
      "EVENT3 - Step 199/200: training loss=1.42\n",
      "EVENT4 - Step 198/200: training loss=0.52\n",
      "EVENT5 - Step 197/200: training loss=1.24\n",
      "EVENT6 - Step 196/200: training loss=0.87\n",
      "EVENT7 - Step 195/200: training loss=1.25\n",
      "EVENT8 - Step 194/200: training loss=0.99\n",
      "EVENT9 - Step 193/200: training loss=1.23\n",
      "EVENT10 - Step 192/200: training loss=1.41\n",
      "EVENT11 - Step 191/200: training loss=1.06\n",
      "EVENT12 - Step 190/200: training loss=0.92, validation loss=0.91\n",
      "EVENT13 - Step 189/200: training loss=1.76\n",
      "EVENT14 - Step 188/200: training loss=1.24\n",
      "EVENT15 - Step 187/200: training loss=1.11\n",
      "EVENT16 - Step 186/200: training loss=1.31\n",
      "EVENT17 - Step 185/200: training loss=1.62\n",
      "EVENT18 - Step 184/200: training loss=0.90\n",
      "EVENT19 - Step 183/200: training loss=0.75\n",
      "EVENT20 - Step 182/200: training loss=1.52\n",
      "EVENT21 - Step 181/200: training loss=0.57\n",
      "EVENT22 - Step 180/200: training loss=0.91, validation loss=1.25\n",
      "EVENT23 - Step 179/200: training loss=1.31\n",
      "EVENT24 - Step 178/200: training loss=1.45\n",
      "EVENT25 - Step 177/200: training loss=1.47\n",
      "EVENT26 - Step 176/200: training loss=1.37\n",
      "EVENT27 - Step 175/200: training loss=0.92\n",
      "EVENT28 - Step 174/200: training loss=0.85\n",
      "EVENT29 - Step 173/200: training loss=0.74\n",
      "EVENT30 - Step 172/200: training loss=1.47\n",
      "EVENT31 - Step 171/200: training loss=1.33\n",
      "EVENT32 - Step 170/200: training loss=1.28, validation loss=1.25\n",
      "EVENT33 - Step 169/200: training loss=1.03\n",
      "EVENT34 - Step 168/200: training loss=1.39\n",
      "EVENT35 - Step 167/200: training loss=0.55\n",
      "EVENT36 - Step 166/200: training loss=1.32\n",
      "EVENT37 - Step 165/200: training loss=1.27\n",
      "EVENT38 - Step 164/200: training loss=1.17\n",
      "EVENT39 - Step 163/200: training loss=1.47\n",
      "EVENT40 - Step 162/200: training loss=0.89\n",
      "EVENT41 - Step 161/200: training loss=0.78\n",
      "EVENT42 - Step 160/200: training loss=1.48, validation loss=1.56\n",
      "EVENT43 - Step 159/200: training loss=1.25\n",
      "EVENT44 - Step 158/200: training loss=1.62\n",
      "EVENT45 - Step 157/200: training loss=1.75\n",
      "EVENT46 - Step 156/200: training loss=0.56\n",
      "EVENT47 - Step 155/200: training loss=1.21\n",
      "EVENT48 - Step 154/200: training loss=1.17\n",
      "EVENT49 - Step 153/200: training loss=0.89\n",
      "EVENT50 - Step 152/200: training loss=1.54\n",
      "EVENT51 - Step 151/200: training loss=1.52\n",
      "EVENT52 - Step 150/200: training loss=1.00, validation loss=1.88\n",
      "EVENT53 - Step 149/200: training loss=1.33\n",
      "EVENT54 - Step 148/200: training loss=0.62\n",
      "EVENT55 - Step 147/200: training loss=1.14\n",
      "EVENT56 - Step 146/200: training loss=1.09\n",
      "EVENT57 - Step 145/200: training loss=0.88\n",
      "EVENT58 - Step 144/200: training loss=0.84\n",
      "EVENT59 - Step 143/200: training loss=0.53\n",
      "EVENT60 - Step 142/200: training loss=1.06\n",
      "EVENT61 - Step 141/200: training loss=1.51\n",
      "EVENT62 - Step 140/200: training loss=1.16, validation loss=0.69\n",
      "EVENT63 - Step 139/200: training loss=1.43\n",
      "EVENT64 - Step 138/200: training loss=0.92\n",
      "EVENT65 - Step 137/200: training loss=0.81\n",
      "EVENT66 - Step 136/200: training loss=0.70\n",
      "EVENT67 - Step 135/200: training loss=1.15\n",
      "EVENT68 - Step 134/200: training loss=1.05\n",
      "EVENT69 - Step 133/200: training loss=1.35\n",
      "EVENT70 - Step 132/200: training loss=0.55\n",
      "EVENT71 - Step 131/200: training loss=0.74\n",
      "EVENT72 - Step 130/200: training loss=0.63, validation loss=1.26\n",
      "EVENT73 - Step 129/200: training loss=0.75\n",
      "EVENT74 - Step 128/200: training loss=1.32\n",
      "EVENT75 - Step 127/200: training loss=0.80\n",
      "EVENT76 - Step 126/200: training loss=1.17\n",
      "EVENT77 - Step 125/200: training loss=0.81\n",
      "EVENT78 - Step 124/200: training loss=0.62\n",
      "EVENT79 - Step 123/200: training loss=0.77\n",
      "EVENT80 - Step 122/200: training loss=0.61\n",
      "EVENT81 - Step 121/200: training loss=1.60\n",
      "EVENT82 - Step 120/200: training loss=1.26, validation loss=0.47\n",
      "EVENT83 - Step 119/200: training loss=0.87\n",
      "EVENT84 - Step 118/200: training loss=0.65\n",
      "EVENT85 - Step 117/200: training loss=1.11\n",
      "EVENT86 - Step 116/200: training loss=1.25\n",
      "EVENT87 - Step 115/200: training loss=1.34\n",
      "EVENT88 - Step 114/200: training loss=1.24\n",
      "EVENT89 - Step 113/200: training loss=0.87\n",
      "EVENT90 - Step 112/200: training loss=1.35\n",
      "EVENT91 - Step 111/200: training loss=0.82\n",
      "EVENT92 - Step 110/200: training loss=1.34, validation loss=1.33\n",
      "EVENT93 - Step 109/200: training loss=1.26\n",
      "EVENT94 - Step 108/200: training loss=1.26\n",
      "EVENT95 - Step 107/200: training loss=0.64\n",
      "EVENT96 - Step 106/200: training loss=1.57\n",
      "EVENT97 - Step 105/200: training loss=0.52\n",
      "EVENT98 - Step 104/200: training loss=0.72\n",
      "EVENT99 - Step 103/200: training loss=0.71\n",
      "EVENT100 - Step 102/200: training loss=1.71\n",
      "EVENT101 - Step 101/200: training loss=1.14\n",
      "EVENT102 - Step 100/200: training loss=1.46, validation loss=1.45\n",
      "EVENT103 - Step 99/200: training loss=0.49\n",
      "EVENT104 - Step 98/200: training loss=0.27\n",
      "EVENT105 - Step 97/200: training loss=0.61\n",
      "EVENT106 - Step 96/200: training loss=0.85\n",
      "EVENT107 - Step 95/200: training loss=0.95\n",
      "EVENT108 - Step 94/200: training loss=0.75\n",
      "EVENT109 - Step 93/200: training loss=1.69\n",
      "EVENT110 - Step 92/200: training loss=1.69\n",
      "EVENT111 - Step 91/200: training loss=0.78\n",
      "EVENT112 - Step 90/200: training loss=0.71, validation loss=1.43\n",
      "EVENT113 - Step 89/200: training loss=1.62\n",
      "EVENT114 - Step 88/200: training loss=0.71\n",
      "EVENT115 - Step 87/200: training loss=1.09\n",
      "EVENT116 - Step 86/200: training loss=0.79\n",
      "EVENT117 - Step 85/200: training loss=0.85\n",
      "EVENT118 - Step 84/200: training loss=1.05\n",
      "EVENT119 - Step 83/200: training loss=0.83\n",
      "EVENT120 - Step 82/200: training loss=0.83\n",
      "EVENT121 - Step 81/200: training loss=1.41\n",
      "EVENT122 - Step 80/200: training loss=1.47, validation loss=1.62\n",
      "EVENT123 - Step 79/200: training loss=1.37\n",
      "EVENT124 - Step 78/200: training loss=0.72\n",
      "EVENT125 - Step 77/200: training loss=1.24\n",
      "EVENT126 - Step 76/200: training loss=0.80\n",
      "EVENT127 - Step 75/200: training loss=1.00\n",
      "EVENT128 - Step 74/200: training loss=0.62\n",
      "EVENT129 - Step 73/200: training loss=0.92\n",
      "EVENT130 - Step 72/200: training loss=1.47\n",
      "EVENT131 - Step 71/200: training loss=1.18\n",
      "EVENT132 - Step 70/200: training loss=0.51, validation loss=0.77\n",
      "EVENT133 - Step 69/200: training loss=1.23\n",
      "EVENT134 - Step 68/200: training loss=1.33\n",
      "EVENT135 - Step 67/200: training loss=0.87\n",
      "EVENT136 - Step 66/200: training loss=1.25\n",
      "EVENT137 - Step 65/200: training loss=0.76\n",
      "EVENT138 - Step 64/200: training loss=1.57\n",
      "EVENT139 - Step 63/200: training loss=1.25\n",
      "EVENT140 - Step 62/200: training loss=0.91\n",
      "EVENT141 - Step 61/200: training loss=0.88\n",
      "EVENT142 - Step 60/200: training loss=0.73, validation loss=1.46\n",
      "EVENT143 - Step 59/200: training loss=1.40\n",
      "EVENT144 - Step 58/200: training loss=0.70\n",
      "EVENT145 - Step 57/200: training loss=1.14\n",
      "EVENT146 - Step 56/200: training loss=0.87\n",
      "EVENT147 - Step 55/200: training loss=0.90\n",
      "EVENT148 - Step 54/200: training loss=1.44\n",
      "EVENT149 - Step 53/200: training loss=1.28\n",
      "EVENT150 - Step 52/200: training loss=0.63\n",
      "EVENT151 - Step 51/200: training loss=1.47\n",
      "EVENT152 - Step 50/200: training loss=0.96, validation loss=1.02\n",
      "EVENT153 - Step 49/200: training loss=1.18\n",
      "EVENT154 - Step 48/200: training loss=1.36\n",
      "EVENT155 - Step 47/200: training loss=0.52\n",
      "EVENT156 - Step 46/200: training loss=1.25\n",
      "EVENT157 - Step 45/200: training loss=1.71\n",
      "EVENT158 - Step 44/200: training loss=1.61\n",
      "EVENT159 - Step 43/200: training loss=1.15\n",
      "EVENT160 - Step 42/200: training loss=0.97\n",
      "EVENT161 - Step 41/200: training loss=1.01\n",
      "EVENT162 - Step 40/200: training loss=1.76, validation loss=1.13\n",
      "EVENT163 - Step 39/200: training loss=1.03\n",
      "EVENT164 - Step 38/200: training loss=1.20\n",
      "EVENT165 - Step 37/200: training loss=0.73\n",
      "EVENT166 - Step 36/200: training loss=0.75\n",
      "EVENT167 - Step 35/200: training loss=0.55\n",
      "EVENT168 - Step 34/200: training loss=0.86\n",
      "EVENT169 - Step 33/200: training loss=0.79\n",
      "EVENT170 - Step 32/200: training loss=1.98\n",
      "EVENT171 - Step 31/200: training loss=1.61\n",
      "EVENT172 - Step 30/200: training loss=0.61, validation loss=1.40\n",
      "EVENT173 - Step 29/200: training loss=1.42\n",
      "EVENT174 - Step 28/200: training loss=0.97\n",
      "EVENT175 - Step 27/200: training loss=0.62\n",
      "EVENT176 - Step 26/200: training loss=1.31\n",
      "EVENT177 - Step 25/200: training loss=1.27\n",
      "EVENT178 - Step 24/200: training loss=1.47\n",
      "EVENT179 - Step 23/200: training loss=1.62\n",
      "EVENT180 - Step 22/200: training loss=0.62\n",
      "EVENT181 - Step 21/200: training loss=0.87\n",
      "EVENT182 - Step 20/200: training loss=0.62, validation loss=0.66\n",
      "EVENT183 - Step 19/200: training loss=1.02\n",
      "EVENT184 - Step 18/200: training loss=1.56\n",
      "EVENT185 - Step 17/200: training loss=1.60\n",
      "EVENT186 - Step 16/200: training loss=1.26\n",
      "EVENT187 - Step 15/200: training loss=0.76\n",
      "EVENT188 - Step 14/200: training loss=0.78\n",
      "EVENT189 - Step 13/200: training loss=1.29\n",
      "EVENT190 - Step 12/200: training loss=1.01\n",
      "EVENT191 - Step 11/200: training loss=1.11\n",
      "EVENT192 - Step 10/200: training loss=0.89, validation loss=1.44\n",
      "EVENT193 - Step 9/200: training loss=1.60\n",
      "EVENT194 - Step 8/200: training loss=1.70\n",
      "EVENT195 - Step 7/200: training loss=3.28\n",
      "EVENT196 - Step 6/200: training loss=3.19\n",
      "EVENT197 - Step 5/200: training loss=5.20\n",
      "EVENT198 - Step 4/200: training loss=5.43\n",
      "EVENT199 - Step 3/200: training loss=5.08\n",
      "EVENT200 - Step 2/200: training loss=6.73\n",
      "EVENT201 - Step 1/200: training loss=6.38\n",
      "EVENT202 - Fine-tuning job started\n",
      "EVENT203 - Files validated, moving job to queued state\n",
      "EVENT204 - Validating training file: file-NY3WrFPGfVYxBVhhVdDJG6 and validation file: file-C9DxZLRKUQPE2JQcwU2XzC\n",
      "EVENT205 - Created fine-tuning job: ftjob-aM235qvMmHMpgEM2BBL9FKgh\n"
     ]
    }
   ],
   "source": [
    "## NOTE: Step x/200 (eg 199/200) because we have 200 traing data points.\n",
    "## i.e. each data point is a \"step\"\n",
    "\n",
    "events = openai.fine_tuning.jobs.list_events(fine_tuning_job_id=job_id, limit=250).data\n",
    "for index, obj in enumerate(events):\n",
    "    print(f\"EVENT: {obj.message}\")"
   ]
  },
  {
   "cell_type": "markdown",
   "id": "066fef03-8338-4526-9df3-89b649ad4f0a",
   "metadata": {},
   "source": [
    "# Step 3\n",
    "\n",
    "Test our fine tuned model"
   ]
  },
  {
   "cell_type": "code",
   "execution_count": 63,
   "id": "fa4488cb-3c17-4eda-abd1-53c1c68a491b",
   "metadata": {},
   "outputs": [],
   "source": [
    "fine_tuned_model_name = openai.fine_tuning.jobs.retrieve(job_id).fine_tuned_model"
   ]
  },
  {
   "cell_type": "code",
   "execution_count": 64,
   "id": "e9370937-5a6f-4724-8265-b208663b4450",
   "metadata": {},
   "outputs": [
    {
     "data": {
      "text/plain": [
       "'ft:gpt-4o-mini-2024-07-18:personal:pricer:BL6Z9eik'"
      ]
     },
     "execution_count": 64,
     "metadata": {},
     "output_type": "execute_result"
    }
   ],
   "source": [
    "fine_tuned_model_name"
   ]
  },
  {
   "cell_type": "code",
   "execution_count": 65,
   "id": "66ea68e8-ab1b-4f0d-aba4-a59574d8f85e",
   "metadata": {},
   "outputs": [],
   "source": [
    "# The prompt\n",
    "\n",
    "def test_messages_for(item):\n",
    "    system_message = \"You estimate prices of items. Reply only with the price, no explanation\"\n",
    "    user_prompt = item.test_prompt().replace(\" to the nearest dollar\",\"\").replace(\"\\n\\nPrice is $\",\"\")\n",
    "    return [\n",
    "        {\"role\": \"system\", \"content\": system_message},\n",
    "        {\"role\": \"user\", \"content\": user_prompt},\n",
    "        {\"role\": \"assistant\", \"content\": \"Price is $\"}\n",
    "    ]"
   ]
  },
  {
   "cell_type": "code",
   "execution_count": 66,
   "id": "4ff92d61-0d27-4b0d-8b32-c9891016509b",
   "metadata": {},
   "outputs": [
    {
     "data": {
      "text/plain": [
       "[{'role': 'system',\n",
       "  'content': 'You estimate prices of items. Reply only with the price, no explanation'},\n",
       " {'role': 'user',\n",
       "  'content': \"How much does this cost?\\n\\nOEM AC Compressor w/A/C Repair Kit For Ford F150 F-150 V8 & Lincoln Mark LT 2007 2008 - BuyAutoParts NEW\\nAs one of the world's largest automotive parts suppliers, our parts are trusted every day by mechanics and vehicle owners worldwide. This A/C Compressor and Components Kit is manufactured and tested to the strictest OE standards for unparalleled performance. Built for trouble-free ownership and 100% visually inspected and quality tested, this A/C Compressor and Components Kit is backed by our 100% satisfaction guarantee. Guaranteed Exact Fit for easy installation 100% BRAND NEW, premium ISO/TS 16949 quality - tested to meet or exceed OEM specifications Engineered for superior durability, backed by industry-leading unlimited-mileage warranty Included in this K\"},\n",
       " {'role': 'assistant', 'content': 'Price is $'}]"
      ]
     },
     "execution_count": 66,
     "metadata": {},
     "output_type": "execute_result"
    }
   ],
   "source": [
    "# Try this out\n",
    "\n",
    "test_messages_for(test[0])"
   ]
  },
  {
   "cell_type": "code",
   "execution_count": 67,
   "id": "b1af1888-f94a-4106-b0d8-8a70939eec4e",
   "metadata": {},
   "outputs": [],
   "source": [
    "# A utility function to extract the price from a string\n",
    "\n",
    "def get_price(s):\n",
    "    s = s.replace('$','').replace(',','')\n",
    "    match = re.search(r\"[-+]?\\d*\\.\\d+|\\d+\", s)\n",
    "    return float(match.group()) if match else 0"
   ]
  },
  {
   "cell_type": "code",
   "execution_count": 68,
   "id": "f138c5b7-bcc1-4085-aced-68dad1bf36b4",
   "metadata": {},
   "outputs": [
    {
     "data": {
      "text/plain": [
       "99.99"
      ]
     },
     "execution_count": 68,
     "metadata": {},
     "output_type": "execute_result"
    }
   ],
   "source": [
    "get_price(\"The price is roughly $99.99 because blah blah\")"
   ]
  },
  {
   "cell_type": "code",
   "execution_count": 69,
   "id": "501a2a7a-69c8-451b-bbc0-398bcb9e1612",
   "metadata": {},
   "outputs": [],
   "source": [
    "# The function for gpt-4o-mini\n",
    "\n",
    "def gpt_fine_tuned(item):\n",
    "    response = openai.chat.completions.create(\n",
    "        model=fine_tuned_model_name, \n",
    "#        messages=messages_for(item),\n",
    "        messages=test_messages_for(item),\n",
    "        seed=42,\n",
    "        max_tokens=7\n",
    "    )\n",
    "    reply = response.choices[0].message.content\n",
    "    return get_price(reply)"
   ]
  },
  {
   "cell_type": "code",
   "execution_count": 70,
   "id": "843d88b4-364a-431b-b48b-8a7c1f68b786",
   "metadata": {},
   "outputs": [
    {
     "name": "stdout",
     "output_type": "stream",
     "text": [
      "374.41\n",
      "174.77\n"
     ]
    }
   ],
   "source": [
    "print(test[0].price)\n",
    "print(gpt_fine_tuned(test[0]))"
   ]
  },
  {
   "cell_type": "code",
   "execution_count": 76,
   "id": "edd7ada0-15b7-42ec-bbbb-1250e0eb9af1",
   "metadata": {},
   "outputs": [
    {
     "name": "stdout",
     "output_type": "stream",
     "text": [
      "2000\n",
      "How much does this cost to the nearest dollar?\n",
      "\n",
      "OEM AC Compressor w/A/C Repair Kit For Ford F150 F-150 V8 & Lincoln Mark LT 2007 2008 - BuyAutoParts NEW\n",
      "As one of the world's largest automotive parts suppliers, our parts are trusted every day by mechanics and vehicle owners worldwide. This A/C Compressor and Components Kit is manufactured and tested to the strictest OE standards for unparalleled performance. Built for trouble-free ownership and 100% visually inspected and quality tested, this A/C Compressor and Components Kit is backed by our 100% satisfaction guarantee. Guaranteed Exact Fit for easy installation 100% BRAND NEW, premium ISO/TS 16949 quality - tested to meet or exceed OEM specifications Engineered for superior durability, backed by industry-leading unlimited-mileage warranty Included in this K\n",
      "\n",
      "Price is $\n"
     ]
    }
   ],
   "source": [
    "print(len(test))\n",
    "print(test[0].test_prompt())"
   ]
  },
  {
   "cell_type": "code",
   "execution_count": 75,
   "id": "36bdd2c9-1859-4f99-a09f-3ec83b845b30",
   "metadata": {},
   "outputs": [
    {
     "name": "stdout",
     "output_type": "stream",
     "text": [
      "\u001b[93m1: Guess: $128.66 Truth: $170.99 Error: $42.33 SLE: 0.08 Item: Moen YB6462BN Belfield 2-Light Dual-Moun...\u001b[0m\n",
      "\u001b[91m2: Guess: $209.00 Truth: $489.00 Error: $280.00 SLE: 0.72 Item: Yinfente 4/4 Cello 5 Srting Electric Cel...\u001b[0m\n",
      "\u001b[93m3: Guess: $276.10 Truth: $427.97 Error: $151.87 SLE: 0.19 Item: Evan Fischer Front Bumper Cover Compatib...\u001b[0m\n",
      "\u001b[91m4: Guess: $393.69 Truth: $166.99 Error: $226.70 SLE: 0.73 Item: OREDY Front Struts Coil Spring Compatibl...\u001b[0m\n",
      "\u001b[93m5: Guess: $154.65 Truth: $102.98 Error: $51.67 SLE: 0.16 Item: # 4 Duranodic Heavy Duty Door Closer\u001b[0m\n",
      "\u001b[91m6: Guess: $127.99 Truth: $249.99 Error: $122.00 SLE: 0.44 Item: Fantasy Flight Games Runewars\u001b[0m\n",
      "\u001b[91m7: Guess: $390.99 Truth: $699.99 Error: $309.00 SLE: 0.34 Item: Futaba Systems 7PXR 7-Channel FASST Tran...\u001b[0m\n",
      "\u001b[92m8: Guess: $726.65 Truth: $669.36 Error: $57.29 SLE: 0.01 Item: Fabtech FTS22182 Uniball Upper Control A...\u001b[0m\n",
      "\u001b[91m9: Guess: $66.47 Truth: $216.99 Error: $150.52 SLE: 1.38 Item: [Blue Frame] for Samsung Galaxy S10 Plus...\u001b[0m\n",
      "\u001b[91m10: Guess: $32.99 Truth: $131.50 Error: $98.51 SLE: 1.85 Item: 3mirrors ALUMINUM Tungsten Electrode Sha...\u001b[0m\n",
      "\u001b[91m11: Guess: $65.98 Truth: $217.00 Error: $151.02 SLE: 1.39 Item: Ralbay Modern Crystal Bathroom Vanity Li...\u001b[0m\n",
      "\u001b[91m12: Guess: $277.65 Truth: $174.99 Error: $102.66 SLE: 0.21 Item: Schaeffler LuK RepSet 03-011 Clutch Kit,...\u001b[0m\n",
      "\u001b[91m13: Guess: $47.22 Truth: $209.39 Error: $162.17 SLE: 2.17 Item: United Pacific 31203 - Headlight Assembl...\u001b[0m\n",
      "\u001b[92m14: Guess: $47.22 Truth: $73.99 Error: $26.77 SLE: 0.19 Item: Rockwood BF158.313 Aluminum 90-Degree Of...\u001b[0m\n",
      "\u001b[92m15: Guess: $34.65 Truth: $22.99 Error: $11.66 SLE: 0.16 Item: Disney Pixar Cars Lightning McQueen and ...\u001b[0m\n",
      "\u001b[92m16: Guess: $65.65 Truth: $50.99 Error: $14.66 SLE: 0.06 Item: CONNECTICUT ELEC VPKUBIF220N Pole Replac...\u001b[0m\n",
      "\u001b[93m17: Guess: $572.47 Truth: $731.95 Error: $159.48 SLE: 0.06 Item: Flowmaster 717869 Flowmaster 717869 Cat-...\u001b[0m\n",
      "\u001b[92m18: Guess: $127.99 Truth: $115.99 Error: $12.00 SLE: 0.01 Item: Leadleds Scrolling LED Sign 20\"x4\", App ...\u001b[0m\n",
      "\u001b[91m19: Guess: $127.22 Truth: $354.99 Error: $227.77 SLE: 1.04 Item: Fitrite Autoparts New Grille For 2011-20...\u001b[0m\n",
      "\u001b[93m20: Guess: $66.47 Truth: $23.99 Error: $42.48 SLE: 0.99 Item: Giant Jungle Monkeys & Palm Tree Baby/Nu...\u001b[0m\n",
      "\u001b[92m21: Guess: $143.65 Truth: $151.32 Error: $7.67 SLE: 0.00 Item: Filterbuy 20x26x5 Air Filter MERV 8 Dust...\u001b[0m\n",
      "\u001b[92m22: Guess: $594.99 Truth: $599.00 Error: $4.01 SLE: 0.00 Item: SDCC 2015 Power Rangers Limited Black Ed...\u001b[0m\n",
      "\u001b[93m23: Guess: $221.65 Truth: $287.71 Error: $66.06 SLE: 0.07 Item: For Mercedes-Benz Sprinter Freightliner ...\u001b[0m\n",
      "\u001b[93m24: Guess: $47.22 Truth: $92.99 Error: $45.77 SLE: 0.45 Item: AC WORKS NEMA 14-30 4 Prong Dryer STW 10...\u001b[0m\n",
      "\u001b[91m25: Guess: $179.99 Truth: $74.33 Error: $105.66 SLE: 0.77 Item: Black Shower Head And Faucet Set Complet...\u001b[0m\n",
      "\u001b[92m26: Guess: $322.99 Truth: $349.99 Error: $27.00 SLE: 0.01 Item: Scitoo Coilover Suspensions Shock Struts...\u001b[0m\n",
      "\u001b[93m27: Guess: $390.00 Truth: $559.99 Error: $169.99 SLE: 0.13 Item: HP 15.6\" Laptop, FHD (1920 x 1080) IPS D...\u001b[0m\n",
      "\u001b[91m28: Guess: $47.22 Truth: $196.03 Error: $148.81 SLE: 1.98 Item: EBC Brakes GD7310 3GD Series Dimpled and...\u001b[0m\n",
      "\u001b[93m29: Guess: $499.98 Truth: $384.89 Error: $115.09 SLE: 0.07 Item: Zoom LiveTrak L-8 Portable 8-Channel Dig...\u001b[0m\n",
      "\u001b[91m30: Guess: $194.99 Truth: $103.89 Error: $91.10 SLE: 0.39 Item: SCITOO Engine Timing Belt Kit Fits for 9...\u001b[0m\n",
      "\u001b[91m31: Guess: $289.99 Truth: $168.11 Error: $121.88 SLE: 0.29 Item: Scitoo Rear Quick Strut Coils Assembly f...\u001b[0m\n",
      "\u001b[92m32: Guess: $174.00 Truth: $182.00 Error: $8.00 SLE: 0.00 Item: Savoy House 9-256-1-307, Rosendal 1-Ligh...\u001b[0m\n",
      "\u001b[91m33: Guess: $390.22 Truth: $701.83 Error: $311.61 SLE: 0.34 Item: Delta Shower Doors SD3276523 Linden 48\" ...\u001b[0m\n",
      "\u001b[92m34: Guess: $196.99 Truth: $229.99 Error: $33.00 SLE: 0.02 Item: Shell Vessel Sink with Matching Faucet, ...\u001b[0m\n",
      "\u001b[92m35: Guess: $83.99 Truth: $67.88 Error: $16.11 SLE: 0.04 Item: KleenWater KW4510BR Replacement Water Fi...\u001b[0m\n",
      "\u001b[93m36: Guess: $219.99 Truth: $299.99 Error: $80.00 SLE: 0.10 Item: Nyrius Aries Pro+ Wireless HDMI Video Tr...\u001b[0m\n",
      "\u001b[92m37: Guess: $37.99 Truth: $63.99 Error: $26.00 SLE: 0.26 Item: Pentek ECP5-10 Pleated Cellulose/Polyest...\u001b[0m\n",
      "\u001b[92m38: Guess: $30.29 Truth: $36.99 Error: $6.70 SLE: 0.04 Item: Kolasels Tablet Floor Tripod Stand 62” H...\u001b[0m\n",
      "\u001b[91m39: Guess: $47.95 Truth: $149.99 Error: $102.04 SLE: 1.27 Item: CPS Imports Walnut Wood Top Grand Piano ...\u001b[0m\n",
      "\u001b[92m40: Guess: $14.65 Truth: $14.95 Error: $0.30 SLE: 0.00 Item: Moomin x kidrobot Moominmama (with Purse...\u001b[0m\n",
      "\u001b[93m41: Guess: $322.99 Truth: $249.99 Error: $73.00 SLE: 0.07 Item: Power Stop K116 Front Z23 Carbon Fiber B...\u001b[0m\n",
      "\u001b[93m42: Guess: $127.99 Truth: $79.30 Error: $48.69 SLE: 0.22 Item: McFarlane Toys The Walking Dead TV Delux...\u001b[0m\n",
      "\u001b[92m43: Guess: $239.66 Truth: $223.07 Error: $16.59 SLE: 0.01 Item: PowerSport Front Rear Brakes and Rotors ...\u001b[0m\n",
      "\u001b[92m44: Guess: $136.00 Truth: $103.90 Error: $32.10 SLE: 0.07 Item: Delta Faucet RP52148RB, Venetian Bronze,...\u001b[0m\n",
      "\u001b[91m45: Guess: $262.47 Truth: $472.99 Error: $210.52 SLE: 0.34 Item: Ultima¨ Kool Kat¨ Aluminum Front Wheel, ...\u001b[0m\n",
      "\u001b[93m46: Guess: $47.22 Truth: $114.89 Error: $67.67 SLE: 0.77 Item: Set 2 FREE COUNTRY ATV tires 23X8-11 23x...\u001b[0m\n",
      "\u001b[92m47: Guess: $49.77 Truth: $77.15 Error: $27.38 SLE: 0.19 Item: Compatible With Jeep Wrangler JK Turn Si...\u001b[0m\n",
      "\u001b[91m48: Guess: $47.99 Truth: $162.35 Error: $114.36 SLE: 1.45 Item: Mophorn Binnacle Remote Control Box Boat...\u001b[0m\n",
      "\u001b[93m49: Guess: $147.00 Truth: $198.90 Error: $51.90 SLE: 0.09 Item: WERFACTORY Tiffany Floor Lamp Pink Stain...\u001b[0m\n",
      "\u001b[91m50: Guess: $47.22 Truth: $382.43 Error: $335.21 SLE: 4.30 Item: RAREELECTRICAL Starter Motor Compatible ...\u001b[0m\n"
     ]
    },
    {
     "ename": "IndexError",
     "evalue": "list index out of range",
     "output_type": "error",
     "traceback": [
      "\u001b[0;31m---------------------------------------------------------------------------\u001b[0m",
      "\u001b[0;31mIndexError\u001b[0m                                Traceback (most recent call last)",
      "Cell \u001b[0;32mIn[75], line 3\u001b[0m\n\u001b[1;32m      1\u001b[0m \u001b[38;5;66;03m#Tester.test(gpt_fine_tuned, test)\u001b[39;00m\n\u001b[1;32m      2\u001b[0m \u001b[38;5;66;03m#Tester.test(gpt_fine_tuned, fine_tune_validation)\u001b[39;00m\n\u001b[0;32m----> 3\u001b[0m \u001b[43mTester\u001b[49m\u001b[38;5;241;43m.\u001b[39;49m\u001b[43mtest\u001b[49m\u001b[43m(\u001b[49m\u001b[43mgpt_fine_tuned\u001b[49m\u001b[43m,\u001b[49m\u001b[43m \u001b[49m\u001b[43mtest\u001b[49m\u001b[43m[\u001b[49m\u001b[38;5;241;43m250\u001b[39;49m\u001b[43m:\u001b[49m\u001b[38;5;241;43m300\u001b[39;49m\u001b[43m]\u001b[49m\u001b[43m)\u001b[49m\n",
      "File \u001b[0;32m~/Code/personal/courses/llm/llm_engineering/week6/testing.py:75\u001b[0m, in \u001b[0;36mTester.test\u001b[0;34m(cls, function, data)\u001b[0m\n\u001b[1;32m     73\u001b[0m \u001b[38;5;129m@classmethod\u001b[39m\n\u001b[1;32m     74\u001b[0m \u001b[38;5;28;01mdef\u001b[39;00m\u001b[38;5;250m \u001b[39m\u001b[38;5;21mtest\u001b[39m(\u001b[38;5;28mcls\u001b[39m, function, data):\n\u001b[0;32m---> 75\u001b[0m     \u001b[38;5;28;43mcls\u001b[39;49m\u001b[43m(\u001b[49m\u001b[43mfunction\u001b[49m\u001b[43m,\u001b[49m\u001b[43m \u001b[49m\u001b[43mdata\u001b[49m\u001b[43m)\u001b[49m\u001b[38;5;241;43m.\u001b[39;49m\u001b[43mrun\u001b[49m\u001b[43m(\u001b[49m\u001b[43m)\u001b[49m\n",
      "File \u001b[0;32m~/Code/personal/courses/llm/llm_engineering/week6/testing.py:70\u001b[0m, in \u001b[0;36mTester.run\u001b[0;34m(self)\u001b[0m\n\u001b[1;32m     68\u001b[0m \u001b[38;5;28mself\u001b[39m\u001b[38;5;241m.\u001b[39merror \u001b[38;5;241m=\u001b[39m \u001b[38;5;241m0\u001b[39m\n\u001b[1;32m     69\u001b[0m \u001b[38;5;28;01mfor\u001b[39;00m i \u001b[38;5;129;01min\u001b[39;00m \u001b[38;5;28mrange\u001b[39m(\u001b[38;5;28mself\u001b[39m\u001b[38;5;241m.\u001b[39msize):\n\u001b[0;32m---> 70\u001b[0m     \u001b[38;5;28;43mself\u001b[39;49m\u001b[38;5;241;43m.\u001b[39;49m\u001b[43mrun_datapoint\u001b[49m\u001b[43m(\u001b[49m\u001b[43mi\u001b[49m\u001b[43m)\u001b[49m\n\u001b[1;32m     71\u001b[0m \u001b[38;5;28mself\u001b[39m\u001b[38;5;241m.\u001b[39mreport()\n",
      "File \u001b[0;32m~/Code/personal/courses/llm/llm_engineering/week6/testing.py:32\u001b[0m, in \u001b[0;36mTester.run_datapoint\u001b[0;34m(self, i)\u001b[0m\n\u001b[1;32m     31\u001b[0m \u001b[38;5;28;01mdef\u001b[39;00m\u001b[38;5;250m \u001b[39m\u001b[38;5;21mrun_datapoint\u001b[39m(\u001b[38;5;28mself\u001b[39m, i):\n\u001b[0;32m---> 32\u001b[0m     datapoint \u001b[38;5;241m=\u001b[39m \u001b[38;5;28;43mself\u001b[39;49m\u001b[38;5;241;43m.\u001b[39;49m\u001b[43mdata\u001b[49m\u001b[43m[\u001b[49m\u001b[43mi\u001b[49m\u001b[43m]\u001b[49m\n\u001b[1;32m     33\u001b[0m     guess \u001b[38;5;241m=\u001b[39m \u001b[38;5;28mself\u001b[39m\u001b[38;5;241m.\u001b[39mpredictor(datapoint)\n\u001b[1;32m     34\u001b[0m     truth \u001b[38;5;241m=\u001b[39m datapoint\u001b[38;5;241m.\u001b[39mprice\n",
      "\u001b[0;31mIndexError\u001b[0m: list index out of range"
     ]
    }
   ],
   "source": [
    "#Tester.test(gpt_fine_tuned, test)\n",
    "#Tester.test(gpt_fine_tuned, fine_tune_validation)\n",
    "Tester.test(gpt_fine_tuned, test[250:300])"
   ]
  }
 ],
 "metadata": {
  "kernelspec": {
   "display_name": "Python 3 (ipykernel)",
   "language": "python",
   "name": "python3"
  },
  "language_info": {
   "codemirror_mode": {
    "name": "ipython",
    "version": 3
   },
   "file_extension": ".py",
   "mimetype": "text/x-python",
   "name": "python",
   "nbconvert_exporter": "python",
   "pygments_lexer": "ipython3",
   "version": "3.11.11"
  }
 },
 "nbformat": 4,
 "nbformat_minor": 5
}
